{
  "cells": [
    {
      "cell_type": "code",
      "execution_count": 72,
      "id": "3b1c38cb-7ac3-4c74-9597-7cdf2de36f2e",
      "metadata": {
        "id": "3b1c38cb-7ac3-4c74-9597-7cdf2de36f2e"
      },
      "outputs": [],
      "source": [
        "from sklearn.datasets import fetch_openml\n",
        "from sklearn.metrics import accuracy_score, classification_report\n",
        "import pandas as pd\n",
        "from sklearn.linear_model import LogisticRegression,LinearRegression\n",
        "import numpy as np\n",
        "from sklearn.pipeline import Pipeline\n",
        "from sklearn.preprocessing import PolynomialFeatures\n",
        "import matplotlib.pyplot as plt\n",
        "from sklearn.svm import SVC\n",
        "from sklearn.neural_network import MLPClassifier\n",
        "import time\n",
        "from sklearn.preprocessing import LabelEncoder"
      ]
    },
    {
      "cell_type": "markdown",
      "id": "d35df165-4e72-4dd0-8539-7b74ea1fa1d1",
      "metadata": {
        "id": "d35df165-4e72-4dd0-8539-7b74ea1fa1d1"
      },
      "source": [
        "## 1"
      ]
    },
    {
      "cell_type": "markdown",
      "id": "cdcaf574-b3db-4aeb-8c51-3faf99132786",
      "metadata": {
        "id": "cdcaf574-b3db-4aeb-8c51-3faf99132786"
      },
      "source": [
        "1. (1 балл) Загрузите предложенный вам датасет с помощью функции `sklearn.datasets.fetch_openml`. Выведите текстовое описание загруженного датасета. Обозначьте целевую переменную за `y`, а остальные данные за `X`."
      ]
    },
    {
      "cell_type": "code",
      "execution_count": 73,
      "id": "e48234c7-ebb3-45c8-b499-e78a1487d572",
      "metadata": {
        "id": "e48234c7-ebb3-45c8-b499-e78a1487d572"
      },
      "outputs": [],
      "source": [
        "df = fetch_openml(name='glass', version = 2)"
      ]
    },
    {
      "cell_type": "code",
      "execution_count": 74,
      "id": "ba87031b-7011-4310-8a9d-d60e2f641ebc",
      "metadata": {
        "id": "ba87031b-7011-4310-8a9d-d60e2f641ebc"
      },
      "outputs": [],
      "source": [
        "X = df.data\n",
        "y = df.target"
      ]
    },
    {
      "cell_type": "code",
      "execution_count": 75,
      "id": "dfbdf3c6-3ada-412d-a8cd-6dc817810b57",
      "metadata": {
        "colab": {
          "base_uri": "https://localhost:8080/"
        },
        "id": "dfbdf3c6-3ada-412d-a8cd-6dc817810b57",
        "outputId": "bb2a4c22-850b-4e01-be1b-5296930f36b6"
      },
      "outputs": [
        {
          "output_type": "stream",
          "name": "stdout",
          "text": [
            "**Author**:   \n",
            "**Source**: Unknown - Date unknown  \n",
            "**Please cite**:   \n",
            "\n",
            "Binarized version of the original data set (see version 1). The multi-class target feature is converted to a two-class nominal target feature by re-labeling the majority class as positive ('P') and all others as negative ('N'). Originally converted by Quan Sun.\n",
            "\n",
            "Downloaded from openml.org.\n"
          ]
        }
      ],
      "source": [
        "print(df.DESCR)"
      ]
    },
    {
      "cell_type": "markdown",
      "id": "e8fcfda2-8698-4d38-a32a-b0632d17b6d6",
      "metadata": {
        "id": "e8fcfda2-8698-4d38-a32a-b0632d17b6d6"
      },
      "source": [
        "## 2"
      ]
    },
    {
      "cell_type": "markdown",
      "id": "7dd45b91-918d-4ca8-8d4f-4582c17613ad",
      "metadata": {
        "id": "7dd45b91-918d-4ca8-8d4f-4582c17613ad"
      },
      "source": [
        "2. (1 балл) Выведите основную статистическую информацию о данных. Сделайте количественное описание датасета: число строк (объектов), число столбцов (признаков), статистику по признакам, количество классов (значений целевой переменной)."
      ]
    },
    {
      "cell_type": "code",
      "execution_count": 76,
      "id": "09f4c866-eda9-4875-bb0f-e9dd99269c5f",
      "metadata": {
        "colab": {
          "base_uri": "https://localhost:8080/"
        },
        "id": "09f4c866-eda9-4875-bb0f-e9dd99269c5f",
        "outputId": "c6c9d8bd-9671-4045-b04b-1ce616b9565c"
      },
      "outputs": [
        {
          "output_type": "stream",
          "name": "stdout",
          "text": [
            "<class 'pandas.core.frame.DataFrame'>\n",
            "RangeIndex: 214 entries, 0 to 213\n",
            "Data columns (total 9 columns):\n",
            " #   Column  Non-Null Count  Dtype  \n",
            "---  ------  --------------  -----  \n",
            " 0   RI      214 non-null    float64\n",
            " 1   Na      214 non-null    float64\n",
            " 2   Mg      214 non-null    float64\n",
            " 3   Al      214 non-null    float64\n",
            " 4   Si      214 non-null    float64\n",
            " 5   K       214 non-null    float64\n",
            " 6   Ca      214 non-null    float64\n",
            " 7   Ba      214 non-null    float64\n",
            " 8   Fe      214 non-null    float64\n",
            "dtypes: float64(9)\n",
            "memory usage: 15.2 KB\n"
          ]
        }
      ],
      "source": [
        "X.info()\n",
        "\n",
        "#кол-во строк:\n",
        "#кол-во столбцов:"
      ]
    },
    {
      "cell_type": "code",
      "execution_count": 77,
      "id": "bfd7dcbb-3a3e-44ba-ba00-8efafec9f972",
      "metadata": {
        "colab": {
          "base_uri": "https://localhost:8080/"
        },
        "id": "bfd7dcbb-3a3e-44ba-ba00-8efafec9f972",
        "outputId": "fa584737-bf24-41ea-e460-0f0a1c0d1d9d"
      },
      "outputs": [
        {
          "output_type": "stream",
          "name": "stdout",
          "text": [
            "<class 'pandas.core.series.Series'>\n",
            "RangeIndex: 214 entries, 0 to 213\n",
            "Series name: binaryClass\n",
            "Non-Null Count  Dtype   \n",
            "--------------  -----   \n",
            "214 non-null    category\n",
            "dtypes: category(1)\n",
            "memory usage: 466.0 bytes\n"
          ]
        }
      ],
      "source": [
        "y.info()"
      ]
    },
    {
      "cell_type": "code",
      "execution_count": 78,
      "id": "b35f33c2-4ceb-412f-b670-429bc96c5780",
      "metadata": {
        "colab": {
          "base_uri": "https://localhost:8080/",
          "height": 300
        },
        "id": "b35f33c2-4ceb-412f-b670-429bc96c5780",
        "outputId": "5bd08cf9-c19a-4553-d06a-ea2c90134736"
      },
      "outputs": [
        {
          "output_type": "execute_result",
          "data": {
            "text/plain": [
              "               RI          Na          Mg          Al          Si           K  \\\n",
              "count  214.000000  214.000000  214.000000  214.000000  214.000000  214.000000   \n",
              "mean     1.518365   13.407850    2.684533    1.444907   72.650935    0.497056   \n",
              "std      0.003037    0.816604    1.442408    0.499270    0.774546    0.652192   \n",
              "min      1.511150   10.730000    0.000000    0.290000   69.810000    0.000000   \n",
              "25%      1.516522   12.907500    2.115000    1.190000   72.280000    0.122500   \n",
              "50%      1.517680   13.300000    3.480000    1.360000   72.790000    0.555000   \n",
              "75%      1.519157   13.825000    3.600000    1.630000   73.087500    0.610000   \n",
              "max      1.533930   17.380000    4.490000    3.500000   75.410000    6.210000   \n",
              "\n",
              "               Ca          Ba          Fe  \n",
              "count  214.000000  214.000000  214.000000  \n",
              "mean     8.956963    0.175047    0.057009  \n",
              "std      1.423153    0.497219    0.097439  \n",
              "min      5.430000    0.000000    0.000000  \n",
              "25%      8.240000    0.000000    0.000000  \n",
              "50%      8.600000    0.000000    0.000000  \n",
              "75%      9.172500    0.000000    0.100000  \n",
              "max     16.190000    3.150000    0.510000  "
            ],
            "text/html": [
              "\n",
              "  <div id=\"df-74550901-bdd5-4215-a23f-df7d38ccfbd1\" class=\"colab-df-container\">\n",
              "    <div>\n",
              "<style scoped>\n",
              "    .dataframe tbody tr th:only-of-type {\n",
              "        vertical-align: middle;\n",
              "    }\n",
              "\n",
              "    .dataframe tbody tr th {\n",
              "        vertical-align: top;\n",
              "    }\n",
              "\n",
              "    .dataframe thead th {\n",
              "        text-align: right;\n",
              "    }\n",
              "</style>\n",
              "<table border=\"1\" class=\"dataframe\">\n",
              "  <thead>\n",
              "    <tr style=\"text-align: right;\">\n",
              "      <th></th>\n",
              "      <th>RI</th>\n",
              "      <th>Na</th>\n",
              "      <th>Mg</th>\n",
              "      <th>Al</th>\n",
              "      <th>Si</th>\n",
              "      <th>K</th>\n",
              "      <th>Ca</th>\n",
              "      <th>Ba</th>\n",
              "      <th>Fe</th>\n",
              "    </tr>\n",
              "  </thead>\n",
              "  <tbody>\n",
              "    <tr>\n",
              "      <th>count</th>\n",
              "      <td>214.000000</td>\n",
              "      <td>214.000000</td>\n",
              "      <td>214.000000</td>\n",
              "      <td>214.000000</td>\n",
              "      <td>214.000000</td>\n",
              "      <td>214.000000</td>\n",
              "      <td>214.000000</td>\n",
              "      <td>214.000000</td>\n",
              "      <td>214.000000</td>\n",
              "    </tr>\n",
              "    <tr>\n",
              "      <th>mean</th>\n",
              "      <td>1.518365</td>\n",
              "      <td>13.407850</td>\n",
              "      <td>2.684533</td>\n",
              "      <td>1.444907</td>\n",
              "      <td>72.650935</td>\n",
              "      <td>0.497056</td>\n",
              "      <td>8.956963</td>\n",
              "      <td>0.175047</td>\n",
              "      <td>0.057009</td>\n",
              "    </tr>\n",
              "    <tr>\n",
              "      <th>std</th>\n",
              "      <td>0.003037</td>\n",
              "      <td>0.816604</td>\n",
              "      <td>1.442408</td>\n",
              "      <td>0.499270</td>\n",
              "      <td>0.774546</td>\n",
              "      <td>0.652192</td>\n",
              "      <td>1.423153</td>\n",
              "      <td>0.497219</td>\n",
              "      <td>0.097439</td>\n",
              "    </tr>\n",
              "    <tr>\n",
              "      <th>min</th>\n",
              "      <td>1.511150</td>\n",
              "      <td>10.730000</td>\n",
              "      <td>0.000000</td>\n",
              "      <td>0.290000</td>\n",
              "      <td>69.810000</td>\n",
              "      <td>0.000000</td>\n",
              "      <td>5.430000</td>\n",
              "      <td>0.000000</td>\n",
              "      <td>0.000000</td>\n",
              "    </tr>\n",
              "    <tr>\n",
              "      <th>25%</th>\n",
              "      <td>1.516522</td>\n",
              "      <td>12.907500</td>\n",
              "      <td>2.115000</td>\n",
              "      <td>1.190000</td>\n",
              "      <td>72.280000</td>\n",
              "      <td>0.122500</td>\n",
              "      <td>8.240000</td>\n",
              "      <td>0.000000</td>\n",
              "      <td>0.000000</td>\n",
              "    </tr>\n",
              "    <tr>\n",
              "      <th>50%</th>\n",
              "      <td>1.517680</td>\n",
              "      <td>13.300000</td>\n",
              "      <td>3.480000</td>\n",
              "      <td>1.360000</td>\n",
              "      <td>72.790000</td>\n",
              "      <td>0.555000</td>\n",
              "      <td>8.600000</td>\n",
              "      <td>0.000000</td>\n",
              "      <td>0.000000</td>\n",
              "    </tr>\n",
              "    <tr>\n",
              "      <th>75%</th>\n",
              "      <td>1.519157</td>\n",
              "      <td>13.825000</td>\n",
              "      <td>3.600000</td>\n",
              "      <td>1.630000</td>\n",
              "      <td>73.087500</td>\n",
              "      <td>0.610000</td>\n",
              "      <td>9.172500</td>\n",
              "      <td>0.000000</td>\n",
              "      <td>0.100000</td>\n",
              "    </tr>\n",
              "    <tr>\n",
              "      <th>max</th>\n",
              "      <td>1.533930</td>\n",
              "      <td>17.380000</td>\n",
              "      <td>4.490000</td>\n",
              "      <td>3.500000</td>\n",
              "      <td>75.410000</td>\n",
              "      <td>6.210000</td>\n",
              "      <td>16.190000</td>\n",
              "      <td>3.150000</td>\n",
              "      <td>0.510000</td>\n",
              "    </tr>\n",
              "  </tbody>\n",
              "</table>\n",
              "</div>\n",
              "    <div class=\"colab-df-buttons\">\n",
              "\n",
              "  <div class=\"colab-df-container\">\n",
              "    <button class=\"colab-df-convert\" onclick=\"convertToInteractive('df-74550901-bdd5-4215-a23f-df7d38ccfbd1')\"\n",
              "            title=\"Convert this dataframe to an interactive table.\"\n",
              "            style=\"display:none;\">\n",
              "\n",
              "  <svg xmlns=\"http://www.w3.org/2000/svg\" height=\"24px\" viewBox=\"0 -960 960 960\">\n",
              "    <path d=\"M120-120v-720h720v720H120Zm60-500h600v-160H180v160Zm220 220h160v-160H400v160Zm0 220h160v-160H400v160ZM180-400h160v-160H180v160Zm440 0h160v-160H620v160ZM180-180h160v-160H180v160Zm440 0h160v-160H620v160Z\"/>\n",
              "  </svg>\n",
              "    </button>\n",
              "\n",
              "  <style>\n",
              "    .colab-df-container {\n",
              "      display:flex;\n",
              "      gap: 12px;\n",
              "    }\n",
              "\n",
              "    .colab-df-convert {\n",
              "      background-color: #E8F0FE;\n",
              "      border: none;\n",
              "      border-radius: 50%;\n",
              "      cursor: pointer;\n",
              "      display: none;\n",
              "      fill: #1967D2;\n",
              "      height: 32px;\n",
              "      padding: 0 0 0 0;\n",
              "      width: 32px;\n",
              "    }\n",
              "\n",
              "    .colab-df-convert:hover {\n",
              "      background-color: #E2EBFA;\n",
              "      box-shadow: 0px 1px 2px rgba(60, 64, 67, 0.3), 0px 1px 3px 1px rgba(60, 64, 67, 0.15);\n",
              "      fill: #174EA6;\n",
              "    }\n",
              "\n",
              "    .colab-df-buttons div {\n",
              "      margin-bottom: 4px;\n",
              "    }\n",
              "\n",
              "    [theme=dark] .colab-df-convert {\n",
              "      background-color: #3B4455;\n",
              "      fill: #D2E3FC;\n",
              "    }\n",
              "\n",
              "    [theme=dark] .colab-df-convert:hover {\n",
              "      background-color: #434B5C;\n",
              "      box-shadow: 0px 1px 3px 1px rgba(0, 0, 0, 0.15);\n",
              "      filter: drop-shadow(0px 1px 2px rgba(0, 0, 0, 0.3));\n",
              "      fill: #FFFFFF;\n",
              "    }\n",
              "  </style>\n",
              "\n",
              "    <script>\n",
              "      const buttonEl =\n",
              "        document.querySelector('#df-74550901-bdd5-4215-a23f-df7d38ccfbd1 button.colab-df-convert');\n",
              "      buttonEl.style.display =\n",
              "        google.colab.kernel.accessAllowed ? 'block' : 'none';\n",
              "\n",
              "      async function convertToInteractive(key) {\n",
              "        const element = document.querySelector('#df-74550901-bdd5-4215-a23f-df7d38ccfbd1');\n",
              "        const dataTable =\n",
              "          await google.colab.kernel.invokeFunction('convertToInteractive',\n",
              "                                                    [key], {});\n",
              "        if (!dataTable) return;\n",
              "\n",
              "        const docLinkHtml = 'Like what you see? Visit the ' +\n",
              "          '<a target=\"_blank\" href=https://colab.research.google.com/notebooks/data_table.ipynb>data table notebook</a>'\n",
              "          + ' to learn more about interactive tables.';\n",
              "        element.innerHTML = '';\n",
              "        dataTable['output_type'] = 'display_data';\n",
              "        await google.colab.output.renderOutput(dataTable, element);\n",
              "        const docLink = document.createElement('div');\n",
              "        docLink.innerHTML = docLinkHtml;\n",
              "        element.appendChild(docLink);\n",
              "      }\n",
              "    </script>\n",
              "  </div>\n",
              "\n",
              "\n",
              "<div id=\"df-9ff68827-a116-403b-bb7f-12b2b6b6632c\">\n",
              "  <button class=\"colab-df-quickchart\" onclick=\"quickchart('df-9ff68827-a116-403b-bb7f-12b2b6b6632c')\"\n",
              "            title=\"Suggest charts\"\n",
              "            style=\"display:none;\">\n",
              "\n",
              "<svg xmlns=\"http://www.w3.org/2000/svg\" height=\"24px\"viewBox=\"0 0 24 24\"\n",
              "     width=\"24px\">\n",
              "    <g>\n",
              "        <path d=\"M19 3H5c-1.1 0-2 .9-2 2v14c0 1.1.9 2 2 2h14c1.1 0 2-.9 2-2V5c0-1.1-.9-2-2-2zM9 17H7v-7h2v7zm4 0h-2V7h2v10zm4 0h-2v-4h2v4z\"/>\n",
              "    </g>\n",
              "</svg>\n",
              "  </button>\n",
              "\n",
              "<style>\n",
              "  .colab-df-quickchart {\n",
              "      --bg-color: #E8F0FE;\n",
              "      --fill-color: #1967D2;\n",
              "      --hover-bg-color: #E2EBFA;\n",
              "      --hover-fill-color: #174EA6;\n",
              "      --disabled-fill-color: #AAA;\n",
              "      --disabled-bg-color: #DDD;\n",
              "  }\n",
              "\n",
              "  [theme=dark] .colab-df-quickchart {\n",
              "      --bg-color: #3B4455;\n",
              "      --fill-color: #D2E3FC;\n",
              "      --hover-bg-color: #434B5C;\n",
              "      --hover-fill-color: #FFFFFF;\n",
              "      --disabled-bg-color: #3B4455;\n",
              "      --disabled-fill-color: #666;\n",
              "  }\n",
              "\n",
              "  .colab-df-quickchart {\n",
              "    background-color: var(--bg-color);\n",
              "    border: none;\n",
              "    border-radius: 50%;\n",
              "    cursor: pointer;\n",
              "    display: none;\n",
              "    fill: var(--fill-color);\n",
              "    height: 32px;\n",
              "    padding: 0;\n",
              "    width: 32px;\n",
              "  }\n",
              "\n",
              "  .colab-df-quickchart:hover {\n",
              "    background-color: var(--hover-bg-color);\n",
              "    box-shadow: 0 1px 2px rgba(60, 64, 67, 0.3), 0 1px 3px 1px rgba(60, 64, 67, 0.15);\n",
              "    fill: var(--button-hover-fill-color);\n",
              "  }\n",
              "\n",
              "  .colab-df-quickchart-complete:disabled,\n",
              "  .colab-df-quickchart-complete:disabled:hover {\n",
              "    background-color: var(--disabled-bg-color);\n",
              "    fill: var(--disabled-fill-color);\n",
              "    box-shadow: none;\n",
              "  }\n",
              "\n",
              "  .colab-df-spinner {\n",
              "    border: 2px solid var(--fill-color);\n",
              "    border-color: transparent;\n",
              "    border-bottom-color: var(--fill-color);\n",
              "    animation:\n",
              "      spin 1s steps(1) infinite;\n",
              "  }\n",
              "\n",
              "  @keyframes spin {\n",
              "    0% {\n",
              "      border-color: transparent;\n",
              "      border-bottom-color: var(--fill-color);\n",
              "      border-left-color: var(--fill-color);\n",
              "    }\n",
              "    20% {\n",
              "      border-color: transparent;\n",
              "      border-left-color: var(--fill-color);\n",
              "      border-top-color: var(--fill-color);\n",
              "    }\n",
              "    30% {\n",
              "      border-color: transparent;\n",
              "      border-left-color: var(--fill-color);\n",
              "      border-top-color: var(--fill-color);\n",
              "      border-right-color: var(--fill-color);\n",
              "    }\n",
              "    40% {\n",
              "      border-color: transparent;\n",
              "      border-right-color: var(--fill-color);\n",
              "      border-top-color: var(--fill-color);\n",
              "    }\n",
              "    60% {\n",
              "      border-color: transparent;\n",
              "      border-right-color: var(--fill-color);\n",
              "    }\n",
              "    80% {\n",
              "      border-color: transparent;\n",
              "      border-right-color: var(--fill-color);\n",
              "      border-bottom-color: var(--fill-color);\n",
              "    }\n",
              "    90% {\n",
              "      border-color: transparent;\n",
              "      border-bottom-color: var(--fill-color);\n",
              "    }\n",
              "  }\n",
              "</style>\n",
              "\n",
              "  <script>\n",
              "    async function quickchart(key) {\n",
              "      const quickchartButtonEl =\n",
              "        document.querySelector('#' + key + ' button');\n",
              "      quickchartButtonEl.disabled = true;  // To prevent multiple clicks.\n",
              "      quickchartButtonEl.classList.add('colab-df-spinner');\n",
              "      try {\n",
              "        const charts = await google.colab.kernel.invokeFunction(\n",
              "            'suggestCharts', [key], {});\n",
              "      } catch (error) {\n",
              "        console.error('Error during call to suggestCharts:', error);\n",
              "      }\n",
              "      quickchartButtonEl.classList.remove('colab-df-spinner');\n",
              "      quickchartButtonEl.classList.add('colab-df-quickchart-complete');\n",
              "    }\n",
              "    (() => {\n",
              "      let quickchartButtonEl =\n",
              "        document.querySelector('#df-9ff68827-a116-403b-bb7f-12b2b6b6632c button');\n",
              "      quickchartButtonEl.style.display =\n",
              "        google.colab.kernel.accessAllowed ? 'block' : 'none';\n",
              "    })();\n",
              "  </script>\n",
              "</div>\n",
              "    </div>\n",
              "  </div>\n"
            ],
            "application/vnd.google.colaboratory.intrinsic+json": {
              "type": "dataframe",
              "summary": "{\n  \"name\": \"X\",\n  \"rows\": 8,\n  \"fields\": [\n    {\n      \"column\": \"RI\",\n      \"properties\": {\n        \"dtype\": \"number\",\n        \"std\": 75.20167645196686,\n        \"min\": 0.003036863739385434,\n        \"max\": 214.0,\n        \"num_unique_values\": 8,\n        \"samples\": [\n          1.5183654205607477,\n          1.51768,\n          214.0\n        ],\n        \"semantic_type\": \"\",\n        \"description\": \"\"\n      }\n    },\n    {\n      \"column\": \"Na\",\n      \"properties\": {\n        \"dtype\": \"number\",\n        \"std\": 71.66298840222414,\n        \"min\": 0.816603555714983,\n        \"max\": 214.0,\n        \"num_unique_values\": 8,\n        \"samples\": [\n          13.407850467289718,\n          13.3,\n          214.0\n        ],\n        \"semantic_type\": \"\",\n        \"description\": \"\"\n      }\n    },\n    {\n      \"column\": \"Mg\",\n      \"properties\": {\n        \"dtype\": \"number\",\n        \"std\": 74.77384379224597,\n        \"min\": 0.0,\n        \"max\": 214.0,\n        \"num_unique_values\": 8,\n        \"samples\": [\n          2.6845327102803735,\n          3.48,\n          214.0\n        ],\n        \"semantic_type\": \"\",\n        \"description\": \"\"\n      }\n    },\n    {\n      \"column\": \"Al\",\n      \"properties\": {\n        \"dtype\": \"number\",\n        \"std\": 75.16591071743481,\n        \"min\": 0.29,\n        \"max\": 214.0,\n        \"num_unique_values\": 8,\n        \"samples\": [\n          1.444906542056075,\n          1.36,\n          214.0\n        ],\n        \"semantic_type\": \"\",\n        \"description\": \"\"\n      }\n    },\n    {\n      \"column\": \"Si\",\n      \"properties\": {\n        \"dtype\": \"number\",\n        \"std\": 59.22880894669752,\n        \"min\": 0.7745457947651124,\n        \"max\": 214.0,\n        \"num_unique_values\": 8,\n        \"samples\": [\n          72.65093457943925,\n          72.79,\n          214.0\n        ],\n        \"semantic_type\": \"\",\n        \"description\": \"\"\n      }\n    },\n    {\n      \"column\": \"K\",\n      \"properties\": {\n        \"dtype\": \"number\",\n        \"std\": 75.25146876142092,\n        \"min\": 0.0,\n        \"max\": 214.0,\n        \"num_unique_values\": 8,\n        \"samples\": [\n          0.49705607476635516,\n          0.555,\n          214.0\n        ],\n        \"semantic_type\": \"\",\n        \"description\": \"\"\n      }\n    },\n    {\n      \"column\": \"Ca\",\n      \"properties\": {\n        \"dtype\": \"number\",\n        \"std\": 72.8471864212463,\n        \"min\": 1.423153487281395,\n        \"max\": 214.0,\n        \"num_unique_values\": 8,\n        \"samples\": [\n          8.95696261682243,\n          8.6,\n          214.0\n        ],\n        \"semantic_type\": \"\",\n        \"description\": \"\"\n      }\n    },\n    {\n      \"column\": \"Ba\",\n      \"properties\": {\n        \"dtype\": \"number\",\n        \"std\": 75.47505067735626,\n        \"min\": 0.0,\n        \"max\": 214.0,\n        \"num_unique_values\": 5,\n        \"samples\": [\n          0.17504672897196258,\n          3.15,\n          0.49721926059970234\n        ],\n        \"semantic_type\": \"\",\n        \"description\": \"\"\n      }\n    },\n    {\n      \"column\": \"Fe\",\n      \"properties\": {\n        \"dtype\": \"number\",\n        \"std\": 75.62200343652809,\n        \"min\": 0.0,\n        \"max\": 214.0,\n        \"num_unique_values\": 6,\n        \"samples\": [\n          214.0,\n          0.05700934579439252,\n          0.51\n        ],\n        \"semantic_type\": \"\",\n        \"description\": \"\"\n      }\n    }\n  ]\n}"
            }
          },
          "metadata": {},
          "execution_count": 78
        }
      ],
      "source": [
        "X.describe() #статистика по признакам"
      ]
    },
    {
      "cell_type": "code",
      "execution_count": 79,
      "id": "19a3d725-272d-4853-bbdb-96e879088323",
      "metadata": {
        "colab": {
          "base_uri": "https://localhost:8080/",
          "height": 209
        },
        "id": "19a3d725-272d-4853-bbdb-96e879088323",
        "outputId": "f2411178-1969-40a3-b5dc-3510a9756f61"
      },
      "outputs": [
        {
          "output_type": "execute_result",
          "data": {
            "text/plain": [
              "count     214\n",
              "unique      2\n",
              "top         N\n",
              "freq      138\n",
              "Name: binaryClass, dtype: object"
            ],
            "text/html": [
              "<div>\n",
              "<style scoped>\n",
              "    .dataframe tbody tr th:only-of-type {\n",
              "        vertical-align: middle;\n",
              "    }\n",
              "\n",
              "    .dataframe tbody tr th {\n",
              "        vertical-align: top;\n",
              "    }\n",
              "\n",
              "    .dataframe thead th {\n",
              "        text-align: right;\n",
              "    }\n",
              "</style>\n",
              "<table border=\"1\" class=\"dataframe\">\n",
              "  <thead>\n",
              "    <tr style=\"text-align: right;\">\n",
              "      <th></th>\n",
              "      <th>binaryClass</th>\n",
              "    </tr>\n",
              "  </thead>\n",
              "  <tbody>\n",
              "    <tr>\n",
              "      <th>count</th>\n",
              "      <td>214</td>\n",
              "    </tr>\n",
              "    <tr>\n",
              "      <th>unique</th>\n",
              "      <td>2</td>\n",
              "    </tr>\n",
              "    <tr>\n",
              "      <th>top</th>\n",
              "      <td>N</td>\n",
              "    </tr>\n",
              "    <tr>\n",
              "      <th>freq</th>\n",
              "      <td>138</td>\n",
              "    </tr>\n",
              "  </tbody>\n",
              "</table>\n",
              "</div><br><label><b>dtype:</b> object</label>"
            ]
          },
          "metadata": {},
          "execution_count": 79
        }
      ],
      "source": [
        "y.describe()\n",
        "\n",
        "#Кол-во уникальных классов ="
      ]
    },
    {
      "cell_type": "code",
      "execution_count": 80,
      "id": "cb722476-8117-417d-bd44-88181d919a7a",
      "metadata": {
        "colab": {
          "base_uri": "https://localhost:8080/",
          "height": 331
        },
        "id": "cb722476-8117-417d-bd44-88181d919a7a",
        "outputId": "cf618431-a001-469d-a0cd-e08028980e1b"
      },
      "outputs": [
        {
          "output_type": "execute_result",
          "data": {
            "text/plain": [
              "        RI     Na    Mg    Al     Si     K     Ca    Ba    Fe\n",
              "1  1.51643  12.16  3.52  1.35  72.89  0.57   8.53  0.00  0.00\n",
              "2  1.51793  13.21  3.48  1.41  72.64  0.59   8.43  0.00  0.00\n",
              "3  1.51299  14.40  1.74  1.54  74.55  0.00   7.59  0.00  0.00\n",
              "4  1.53393  12.30  0.00  1.00  70.16  0.12  16.19  0.00  0.24\n",
              "5  1.51655  12.75  2.85  1.44  73.27  0.57   8.79  0.11  0.22\n",
              "6  1.51779  13.64  3.65  0.65  73.00  0.06   8.93  0.00  0.00\n",
              "7  1.51837  13.14  2.84  1.28  72.85  0.55   9.07  0.00  0.00\n",
              "8  1.51545  14.14  0.00  2.68  73.39  0.08   9.07  0.61  0.05\n",
              "9  1.51789  13.19  3.90  1.30  72.33  0.55   8.44  0.00  0.28"
            ],
            "text/html": [
              "\n",
              "  <div id=\"df-1e5f80ad-c13a-4081-8750-ed78708ad125\" class=\"colab-df-container\">\n",
              "    <div>\n",
              "<style scoped>\n",
              "    .dataframe tbody tr th:only-of-type {\n",
              "        vertical-align: middle;\n",
              "    }\n",
              "\n",
              "    .dataframe tbody tr th {\n",
              "        vertical-align: top;\n",
              "    }\n",
              "\n",
              "    .dataframe thead th {\n",
              "        text-align: right;\n",
              "    }\n",
              "</style>\n",
              "<table border=\"1\" class=\"dataframe\">\n",
              "  <thead>\n",
              "    <tr style=\"text-align: right;\">\n",
              "      <th></th>\n",
              "      <th>RI</th>\n",
              "      <th>Na</th>\n",
              "      <th>Mg</th>\n",
              "      <th>Al</th>\n",
              "      <th>Si</th>\n",
              "      <th>K</th>\n",
              "      <th>Ca</th>\n",
              "      <th>Ba</th>\n",
              "      <th>Fe</th>\n",
              "    </tr>\n",
              "  </thead>\n",
              "  <tbody>\n",
              "    <tr>\n",
              "      <th>1</th>\n",
              "      <td>1.51643</td>\n",
              "      <td>12.16</td>\n",
              "      <td>3.52</td>\n",
              "      <td>1.35</td>\n",
              "      <td>72.89</td>\n",
              "      <td>0.57</td>\n",
              "      <td>8.53</td>\n",
              "      <td>0.00</td>\n",
              "      <td>0.00</td>\n",
              "    </tr>\n",
              "    <tr>\n",
              "      <th>2</th>\n",
              "      <td>1.51793</td>\n",
              "      <td>13.21</td>\n",
              "      <td>3.48</td>\n",
              "      <td>1.41</td>\n",
              "      <td>72.64</td>\n",
              "      <td>0.59</td>\n",
              "      <td>8.43</td>\n",
              "      <td>0.00</td>\n",
              "      <td>0.00</td>\n",
              "    </tr>\n",
              "    <tr>\n",
              "      <th>3</th>\n",
              "      <td>1.51299</td>\n",
              "      <td>14.40</td>\n",
              "      <td>1.74</td>\n",
              "      <td>1.54</td>\n",
              "      <td>74.55</td>\n",
              "      <td>0.00</td>\n",
              "      <td>7.59</td>\n",
              "      <td>0.00</td>\n",
              "      <td>0.00</td>\n",
              "    </tr>\n",
              "    <tr>\n",
              "      <th>4</th>\n",
              "      <td>1.53393</td>\n",
              "      <td>12.30</td>\n",
              "      <td>0.00</td>\n",
              "      <td>1.00</td>\n",
              "      <td>70.16</td>\n",
              "      <td>0.12</td>\n",
              "      <td>16.19</td>\n",
              "      <td>0.00</td>\n",
              "      <td>0.24</td>\n",
              "    </tr>\n",
              "    <tr>\n",
              "      <th>5</th>\n",
              "      <td>1.51655</td>\n",
              "      <td>12.75</td>\n",
              "      <td>2.85</td>\n",
              "      <td>1.44</td>\n",
              "      <td>73.27</td>\n",
              "      <td>0.57</td>\n",
              "      <td>8.79</td>\n",
              "      <td>0.11</td>\n",
              "      <td>0.22</td>\n",
              "    </tr>\n",
              "    <tr>\n",
              "      <th>6</th>\n",
              "      <td>1.51779</td>\n",
              "      <td>13.64</td>\n",
              "      <td>3.65</td>\n",
              "      <td>0.65</td>\n",
              "      <td>73.00</td>\n",
              "      <td>0.06</td>\n",
              "      <td>8.93</td>\n",
              "      <td>0.00</td>\n",
              "      <td>0.00</td>\n",
              "    </tr>\n",
              "    <tr>\n",
              "      <th>7</th>\n",
              "      <td>1.51837</td>\n",
              "      <td>13.14</td>\n",
              "      <td>2.84</td>\n",
              "      <td>1.28</td>\n",
              "      <td>72.85</td>\n",
              "      <td>0.55</td>\n",
              "      <td>9.07</td>\n",
              "      <td>0.00</td>\n",
              "      <td>0.00</td>\n",
              "    </tr>\n",
              "    <tr>\n",
              "      <th>8</th>\n",
              "      <td>1.51545</td>\n",
              "      <td>14.14</td>\n",
              "      <td>0.00</td>\n",
              "      <td>2.68</td>\n",
              "      <td>73.39</td>\n",
              "      <td>0.08</td>\n",
              "      <td>9.07</td>\n",
              "      <td>0.61</td>\n",
              "      <td>0.05</td>\n",
              "    </tr>\n",
              "    <tr>\n",
              "      <th>9</th>\n",
              "      <td>1.51789</td>\n",
              "      <td>13.19</td>\n",
              "      <td>3.90</td>\n",
              "      <td>1.30</td>\n",
              "      <td>72.33</td>\n",
              "      <td>0.55</td>\n",
              "      <td>8.44</td>\n",
              "      <td>0.00</td>\n",
              "      <td>0.28</td>\n",
              "    </tr>\n",
              "  </tbody>\n",
              "</table>\n",
              "</div>\n",
              "    <div class=\"colab-df-buttons\">\n",
              "\n",
              "  <div class=\"colab-df-container\">\n",
              "    <button class=\"colab-df-convert\" onclick=\"convertToInteractive('df-1e5f80ad-c13a-4081-8750-ed78708ad125')\"\n",
              "            title=\"Convert this dataframe to an interactive table.\"\n",
              "            style=\"display:none;\">\n",
              "\n",
              "  <svg xmlns=\"http://www.w3.org/2000/svg\" height=\"24px\" viewBox=\"0 -960 960 960\">\n",
              "    <path d=\"M120-120v-720h720v720H120Zm60-500h600v-160H180v160Zm220 220h160v-160H400v160Zm0 220h160v-160H400v160ZM180-400h160v-160H180v160Zm440 0h160v-160H620v160ZM180-180h160v-160H180v160Zm440 0h160v-160H620v160Z\"/>\n",
              "  </svg>\n",
              "    </button>\n",
              "\n",
              "  <style>\n",
              "    .colab-df-container {\n",
              "      display:flex;\n",
              "      gap: 12px;\n",
              "    }\n",
              "\n",
              "    .colab-df-convert {\n",
              "      background-color: #E8F0FE;\n",
              "      border: none;\n",
              "      border-radius: 50%;\n",
              "      cursor: pointer;\n",
              "      display: none;\n",
              "      fill: #1967D2;\n",
              "      height: 32px;\n",
              "      padding: 0 0 0 0;\n",
              "      width: 32px;\n",
              "    }\n",
              "\n",
              "    .colab-df-convert:hover {\n",
              "      background-color: #E2EBFA;\n",
              "      box-shadow: 0px 1px 2px rgba(60, 64, 67, 0.3), 0px 1px 3px 1px rgba(60, 64, 67, 0.15);\n",
              "      fill: #174EA6;\n",
              "    }\n",
              "\n",
              "    .colab-df-buttons div {\n",
              "      margin-bottom: 4px;\n",
              "    }\n",
              "\n",
              "    [theme=dark] .colab-df-convert {\n",
              "      background-color: #3B4455;\n",
              "      fill: #D2E3FC;\n",
              "    }\n",
              "\n",
              "    [theme=dark] .colab-df-convert:hover {\n",
              "      background-color: #434B5C;\n",
              "      box-shadow: 0px 1px 3px 1px rgba(0, 0, 0, 0.15);\n",
              "      filter: drop-shadow(0px 1px 2px rgba(0, 0, 0, 0.3));\n",
              "      fill: #FFFFFF;\n",
              "    }\n",
              "  </style>\n",
              "\n",
              "    <script>\n",
              "      const buttonEl =\n",
              "        document.querySelector('#df-1e5f80ad-c13a-4081-8750-ed78708ad125 button.colab-df-convert');\n",
              "      buttonEl.style.display =\n",
              "        google.colab.kernel.accessAllowed ? 'block' : 'none';\n",
              "\n",
              "      async function convertToInteractive(key) {\n",
              "        const element = document.querySelector('#df-1e5f80ad-c13a-4081-8750-ed78708ad125');\n",
              "        const dataTable =\n",
              "          await google.colab.kernel.invokeFunction('convertToInteractive',\n",
              "                                                    [key], {});\n",
              "        if (!dataTable) return;\n",
              "\n",
              "        const docLinkHtml = 'Like what you see? Visit the ' +\n",
              "          '<a target=\"_blank\" href=https://colab.research.google.com/notebooks/data_table.ipynb>data table notebook</a>'\n",
              "          + ' to learn more about interactive tables.';\n",
              "        element.innerHTML = '';\n",
              "        dataTable['output_type'] = 'display_data';\n",
              "        await google.colab.output.renderOutput(dataTable, element);\n",
              "        const docLink = document.createElement('div');\n",
              "        docLink.innerHTML = docLinkHtml;\n",
              "        element.appendChild(docLink);\n",
              "      }\n",
              "    </script>\n",
              "  </div>\n",
              "\n",
              "\n",
              "<div id=\"df-caef222c-2fcb-46b4-8bf2-bba77b42ef5c\">\n",
              "  <button class=\"colab-df-quickchart\" onclick=\"quickchart('df-caef222c-2fcb-46b4-8bf2-bba77b42ef5c')\"\n",
              "            title=\"Suggest charts\"\n",
              "            style=\"display:none;\">\n",
              "\n",
              "<svg xmlns=\"http://www.w3.org/2000/svg\" height=\"24px\"viewBox=\"0 0 24 24\"\n",
              "     width=\"24px\">\n",
              "    <g>\n",
              "        <path d=\"M19 3H5c-1.1 0-2 .9-2 2v14c0 1.1.9 2 2 2h14c1.1 0 2-.9 2-2V5c0-1.1-.9-2-2-2zM9 17H7v-7h2v7zm4 0h-2V7h2v10zm4 0h-2v-4h2v4z\"/>\n",
              "    </g>\n",
              "</svg>\n",
              "  </button>\n",
              "\n",
              "<style>\n",
              "  .colab-df-quickchart {\n",
              "      --bg-color: #E8F0FE;\n",
              "      --fill-color: #1967D2;\n",
              "      --hover-bg-color: #E2EBFA;\n",
              "      --hover-fill-color: #174EA6;\n",
              "      --disabled-fill-color: #AAA;\n",
              "      --disabled-bg-color: #DDD;\n",
              "  }\n",
              "\n",
              "  [theme=dark] .colab-df-quickchart {\n",
              "      --bg-color: #3B4455;\n",
              "      --fill-color: #D2E3FC;\n",
              "      --hover-bg-color: #434B5C;\n",
              "      --hover-fill-color: #FFFFFF;\n",
              "      --disabled-bg-color: #3B4455;\n",
              "      --disabled-fill-color: #666;\n",
              "  }\n",
              "\n",
              "  .colab-df-quickchart {\n",
              "    background-color: var(--bg-color);\n",
              "    border: none;\n",
              "    border-radius: 50%;\n",
              "    cursor: pointer;\n",
              "    display: none;\n",
              "    fill: var(--fill-color);\n",
              "    height: 32px;\n",
              "    padding: 0;\n",
              "    width: 32px;\n",
              "  }\n",
              "\n",
              "  .colab-df-quickchart:hover {\n",
              "    background-color: var(--hover-bg-color);\n",
              "    box-shadow: 0 1px 2px rgba(60, 64, 67, 0.3), 0 1px 3px 1px rgba(60, 64, 67, 0.15);\n",
              "    fill: var(--button-hover-fill-color);\n",
              "  }\n",
              "\n",
              "  .colab-df-quickchart-complete:disabled,\n",
              "  .colab-df-quickchart-complete:disabled:hover {\n",
              "    background-color: var(--disabled-bg-color);\n",
              "    fill: var(--disabled-fill-color);\n",
              "    box-shadow: none;\n",
              "  }\n",
              "\n",
              "  .colab-df-spinner {\n",
              "    border: 2px solid var(--fill-color);\n",
              "    border-color: transparent;\n",
              "    border-bottom-color: var(--fill-color);\n",
              "    animation:\n",
              "      spin 1s steps(1) infinite;\n",
              "  }\n",
              "\n",
              "  @keyframes spin {\n",
              "    0% {\n",
              "      border-color: transparent;\n",
              "      border-bottom-color: var(--fill-color);\n",
              "      border-left-color: var(--fill-color);\n",
              "    }\n",
              "    20% {\n",
              "      border-color: transparent;\n",
              "      border-left-color: var(--fill-color);\n",
              "      border-top-color: var(--fill-color);\n",
              "    }\n",
              "    30% {\n",
              "      border-color: transparent;\n",
              "      border-left-color: var(--fill-color);\n",
              "      border-top-color: var(--fill-color);\n",
              "      border-right-color: var(--fill-color);\n",
              "    }\n",
              "    40% {\n",
              "      border-color: transparent;\n",
              "      border-right-color: var(--fill-color);\n",
              "      border-top-color: var(--fill-color);\n",
              "    }\n",
              "    60% {\n",
              "      border-color: transparent;\n",
              "      border-right-color: var(--fill-color);\n",
              "    }\n",
              "    80% {\n",
              "      border-color: transparent;\n",
              "      border-right-color: var(--fill-color);\n",
              "      border-bottom-color: var(--fill-color);\n",
              "    }\n",
              "    90% {\n",
              "      border-color: transparent;\n",
              "      border-bottom-color: var(--fill-color);\n",
              "    }\n",
              "  }\n",
              "</style>\n",
              "\n",
              "  <script>\n",
              "    async function quickchart(key) {\n",
              "      const quickchartButtonEl =\n",
              "        document.querySelector('#' + key + ' button');\n",
              "      quickchartButtonEl.disabled = true;  // To prevent multiple clicks.\n",
              "      quickchartButtonEl.classList.add('colab-df-spinner');\n",
              "      try {\n",
              "        const charts = await google.colab.kernel.invokeFunction(\n",
              "            'suggestCharts', [key], {});\n",
              "      } catch (error) {\n",
              "        console.error('Error during call to suggestCharts:', error);\n",
              "      }\n",
              "      quickchartButtonEl.classList.remove('colab-df-spinner');\n",
              "      quickchartButtonEl.classList.add('colab-df-quickchart-complete');\n",
              "    }\n",
              "    (() => {\n",
              "      let quickchartButtonEl =\n",
              "        document.querySelector('#df-caef222c-2fcb-46b4-8bf2-bba77b42ef5c button');\n",
              "      quickchartButtonEl.style.display =\n",
              "        google.colab.kernel.accessAllowed ? 'block' : 'none';\n",
              "    })();\n",
              "  </script>\n",
              "</div>\n",
              "    </div>\n",
              "  </div>\n"
            ],
            "application/vnd.google.colaboratory.intrinsic+json": {
              "type": "dataframe",
              "summary": "{\n  \"name\": \"X[1:10]\",\n  \"rows\": 9,\n  \"fields\": [\n    {\n      \"column\": \"RI\",\n      \"properties\": {\n        \"dtype\": \"number\",\n        \"std\": 0.005989327545262862,\n        \"min\": 1.51299,\n        \"max\": 1.53393,\n        \"num_unique_values\": 9,\n        \"samples\": [\n          1.51545,\n          1.51793,\n          1.51779\n        ],\n        \"semantic_type\": \"\",\n        \"description\": \"\"\n      }\n    },\n    {\n      \"column\": \"Na\",\n      \"properties\": {\n        \"dtype\": \"number\",\n        \"std\": 0.7593765717862107,\n        \"min\": 12.16,\n        \"max\": 14.4,\n        \"num_unique_values\": 9,\n        \"samples\": [\n          14.14,\n          13.21,\n          13.64\n        ],\n        \"semantic_type\": \"\",\n        \"description\": \"\"\n      }\n    },\n    {\n      \"column\": \"Mg\",\n      \"properties\": {\n        \"dtype\": \"number\",\n        \"std\": 1.5235220524969253,\n        \"min\": 0.0,\n        \"max\": 3.9,\n        \"num_unique_values\": 8,\n        \"samples\": [\n          3.48,\n          3.65,\n          3.52\n        ],\n        \"semantic_type\": \"\",\n        \"description\": \"\"\n      }\n    },\n    {\n      \"column\": \"Al\",\n      \"properties\": {\n        \"dtype\": \"number\",\n        \"std\": 0.5487283278433671,\n        \"min\": 0.65,\n        \"max\": 2.68,\n        \"num_unique_values\": 9,\n        \"samples\": [\n          2.68,\n          1.41,\n          0.65\n        ],\n        \"semantic_type\": \"\",\n        \"description\": \"\"\n      }\n    },\n    {\n      \"column\": \"Si\",\n      \"properties\": {\n        \"dtype\": \"number\",\n        \"std\": 1.1670796887959283,\n        \"min\": 70.16,\n        \"max\": 74.55,\n        \"num_unique_values\": 9,\n        \"samples\": [\n          73.39,\n          72.64,\n          73.0\n        ],\n        \"semantic_type\": \"\",\n        \"description\": \"\"\n      }\n    },\n    {\n      \"column\": \"K\",\n      \"properties\": {\n        \"dtype\": \"number\",\n        \"std\": 0.26608269391300143,\n        \"min\": 0.0,\n        \"max\": 0.59,\n        \"num_unique_values\": 7,\n        \"samples\": [\n          0.57,\n          0.59,\n          0.55\n        ],\n        \"semantic_type\": \"\",\n        \"description\": \"\"\n      }\n    },\n    {\n      \"column\": \"Ca\",\n      \"properties\": {\n        \"dtype\": \"number\",\n        \"std\": 2.5687761893771737,\n        \"min\": 7.59,\n        \"max\": 16.19,\n        \"num_unique_values\": 8,\n        \"samples\": [\n          8.43,\n          8.93,\n          8.53\n        ],\n        \"semantic_type\": \"\",\n        \"description\": \"\"\n      }\n    },\n    {\n      \"column\": \"Ba\",\n      \"properties\": {\n        \"dtype\": \"number\",\n        \"std\": 0.20205197351176754,\n        \"min\": 0.0,\n        \"max\": 0.61,\n        \"num_unique_values\": 3,\n        \"samples\": [\n          0.0,\n          0.11,\n          0.61\n        ],\n        \"semantic_type\": \"\",\n        \"description\": \"\"\n      }\n    },\n    {\n      \"column\": \"Fe\",\n      \"properties\": {\n        \"dtype\": \"number\",\n        \"std\": 0.12122064363978788,\n        \"min\": 0.0,\n        \"max\": 0.28,\n        \"num_unique_values\": 5,\n        \"samples\": [\n          0.24,\n          0.28,\n          0.22\n        ],\n        \"semantic_type\": \"\",\n        \"description\": \"\"\n      }\n    }\n  ]\n}"
            }
          },
          "metadata": {},
          "execution_count": 80
        }
      ],
      "source": [
        "X[1:10]"
      ]
    },
    {
      "cell_type": "code",
      "execution_count": 81,
      "id": "aa55c979-cfb5-48ac-9a64-a79910d474a7",
      "metadata": {
        "colab": {
          "base_uri": "https://localhost:8080/",
          "height": 366
        },
        "id": "aa55c979-cfb5-48ac-9a64-a79910d474a7",
        "outputId": "54c262e8-69ae-4881-ba1f-3db2f4fbda93"
      },
      "outputs": [
        {
          "output_type": "execute_result",
          "data": {
            "text/plain": [
              "1    N\n",
              "2    N\n",
              "3    N\n",
              "4    P\n",
              "5    P\n",
              "6    N\n",
              "7    N\n",
              "8    N\n",
              "9    P\n",
              "Name: binaryClass, dtype: category\n",
              "Categories (2, object): ['N', 'P']"
            ],
            "text/html": [
              "<div>\n",
              "<style scoped>\n",
              "    .dataframe tbody tr th:only-of-type {\n",
              "        vertical-align: middle;\n",
              "    }\n",
              "\n",
              "    .dataframe tbody tr th {\n",
              "        vertical-align: top;\n",
              "    }\n",
              "\n",
              "    .dataframe thead th {\n",
              "        text-align: right;\n",
              "    }\n",
              "</style>\n",
              "<table border=\"1\" class=\"dataframe\">\n",
              "  <thead>\n",
              "    <tr style=\"text-align: right;\">\n",
              "      <th></th>\n",
              "      <th>binaryClass</th>\n",
              "    </tr>\n",
              "  </thead>\n",
              "  <tbody>\n",
              "    <tr>\n",
              "      <th>1</th>\n",
              "      <td>N</td>\n",
              "    </tr>\n",
              "    <tr>\n",
              "      <th>2</th>\n",
              "      <td>N</td>\n",
              "    </tr>\n",
              "    <tr>\n",
              "      <th>3</th>\n",
              "      <td>N</td>\n",
              "    </tr>\n",
              "    <tr>\n",
              "      <th>4</th>\n",
              "      <td>P</td>\n",
              "    </tr>\n",
              "    <tr>\n",
              "      <th>5</th>\n",
              "      <td>P</td>\n",
              "    </tr>\n",
              "    <tr>\n",
              "      <th>6</th>\n",
              "      <td>N</td>\n",
              "    </tr>\n",
              "    <tr>\n",
              "      <th>7</th>\n",
              "      <td>N</td>\n",
              "    </tr>\n",
              "    <tr>\n",
              "      <th>8</th>\n",
              "      <td>N</td>\n",
              "    </tr>\n",
              "    <tr>\n",
              "      <th>9</th>\n",
              "      <td>P</td>\n",
              "    </tr>\n",
              "  </tbody>\n",
              "</table>\n",
              "</div><br><label><b>dtype:</b> category</label>"
            ]
          },
          "metadata": {},
          "execution_count": 81
        }
      ],
      "source": [
        "y[1:10]"
      ]
    },
    {
      "cell_type": "markdown",
      "id": "6c4d8396-50f5-499d-9c89-da27234d06bc",
      "metadata": {
        "id": "6c4d8396-50f5-499d-9c89-da27234d06bc"
      },
      "source": [
        "## 3"
      ]
    },
    {
      "cell_type": "markdown",
      "id": "156762b5-05a7-4085-9c61-388840c3a957",
      "metadata": {
        "id": "156762b5-05a7-4085-9c61-388840c3a957"
      },
      "source": [
        "3. (1 балл) Убедитесь, что данные пригодны для моделирования. В данных не должно быть пропущенных значений, ве признаки должны быть численными. Если эти условия нарушаются, исправьте это."
      ]
    },
    {
      "cell_type": "code",
      "source": [
        "label_encoder = LabelEncoder()\n",
        "\n",
        "X.loc[:, 'race.ethnicity'] = label_encoder.fit_transform(X['race.ethnicity'])\n",
        "X.loc[:, 'parental.level.of.education'] = label_encoder.fit_transform(X['parental.level.of.education'])\n",
        "X.loc[:, 'lunch'] = label_encoder.fit_transform(X['lunch'])\n",
        "X.loc[:, 'test.preparation.course'] = label_encoder.fit_transform(X['test.preparation.course'])\n",
        "X"
      ],
      "metadata": {
        "id": "nFeD5TjjzM-H"
      },
      "id": "nFeD5TjjzM-H",
      "execution_count": null,
      "outputs": []
    },
    {
      "cell_type": "code",
      "execution_count": 83,
      "id": "6a3f8fef-7f37-4080-b75d-91ad7ab7e8b2",
      "metadata": {
        "colab": {
          "base_uri": "https://localhost:8080/"
        },
        "id": "6a3f8fef-7f37-4080-b75d-91ad7ab7e8b2",
        "outputId": "7a095986-fcbf-4ce0-be55-764c4415014f"
      },
      "outputs": [
        {
          "output_type": "execute_result",
          "data": {
            "text/plain": [
              "array([0, 0, 0, 1, 1, 0, 0, 0, 1])"
            ]
          },
          "metadata": {},
          "execution_count": 83
        }
      ],
      "source": [
        "label_encoder = LabelEncoder()\n",
        "y = label_encoder.fit_transform(y)\n",
        "y[1:10]"
      ]
    },
    {
      "cell_type": "code",
      "source": [
        "y"
      ],
      "metadata": {
        "colab": {
          "base_uri": "https://localhost:8080/"
        },
        "id": "1O7_81Qovokj",
        "outputId": "b586f197-72ba-408e-f2da-632c38d947a4"
      },
      "id": "1O7_81Qovokj",
      "execution_count": 84,
      "outputs": [
        {
          "output_type": "execute_result",
          "data": {
            "text/plain": [
              "array([0, 0, 0, 0, 1, 1, 0, 0, 0, 1, 1, 1, 0, 0, 0, 1, 0, 1, 0, 1, 0, 1,\n",
              "       1, 0, 0, 1, 1, 0, 1, 0, 1, 0, 0, 1, 0, 0, 0, 1, 1, 1, 0, 1, 1, 1,\n",
              "       0, 0, 0, 0, 0, 1, 0, 1, 0, 1, 0, 0, 0, 0, 0, 1, 1, 0, 0, 0, 0, 0,\n",
              "       0, 0, 1, 0, 0, 1, 0, 1, 0, 1, 0, 0, 0, 0, 0, 0, 0, 0, 0, 1, 1, 0,\n",
              "       0, 1, 0, 0, 0, 0, 0, 0, 0, 1, 1, 1, 0, 1, 0, 0, 0, 0, 1, 0, 0, 0,\n",
              "       1, 0, 0, 0, 0, 0, 1, 0, 1, 0, 1, 0, 1, 1, 0, 0, 0, 0, 0, 0, 1, 1,\n",
              "       0, 0, 0, 0, 0, 1, 0, 1, 0, 0, 0, 0, 1, 1, 1, 1, 1, 1, 0, 0, 1, 1,\n",
              "       0, 0, 0, 0, 0, 1, 1, 0, 0, 0, 1, 0, 0, 1, 1, 0, 1, 1, 0, 0, 0, 0,\n",
              "       0, 0, 0, 0, 1, 1, 0, 1, 0, 0, 0, 0, 0, 0, 0, 0, 0, 0, 0, 1, 1, 1,\n",
              "       1, 1, 1, 0, 0, 0, 1, 0, 0, 0, 0, 0, 1, 1, 1, 0])"
            ]
          },
          "metadata": {},
          "execution_count": 84
        }
      ]
    },
    {
      "cell_type": "markdown",
      "id": "8c32ecf6-7a4a-4ec9-8e10-0dd13e949235",
      "metadata": {
        "id": "8c32ecf6-7a4a-4ec9-8e10-0dd13e949235"
      },
      "source": [
        "## 4"
      ]
    },
    {
      "cell_type": "markdown",
      "id": "6a47d37f-59a4-4919-ae42-2feda20ea8b2",
      "metadata": {
        "id": "6a47d37f-59a4-4919-ae42-2feda20ea8b2"
      },
      "source": [
        "4. (2 балла) Обучите модель логистической регрессии на рассматриваемых данных из библиотеки `sklearn`. Рассчитайте метрики accuracy и выведите таблицу классификации."
      ]
    },
    {
      "cell_type": "code",
      "execution_count": 85,
      "id": "75df0434-88ab-468d-ba4d-a722343daa7c",
      "metadata": {
        "id": "75df0434-88ab-468d-ba4d-a722343daa7c"
      },
      "outputs": [],
      "source": [
        "answer = list()"
      ]
    },
    {
      "cell_type": "code",
      "execution_count": 86,
      "id": "e170545d-d0f2-4039-bcab-df8e27e61c2e",
      "metadata": {
        "colab": {
          "base_uri": "https://localhost:8080/"
        },
        "id": "e170545d-d0f2-4039-bcab-df8e27e61c2e",
        "outputId": "26e946f3-6533-4b56-82eb-3afc1f09b20e"
      },
      "outputs": [
        {
          "output_type": "stream",
          "name": "stdout",
          "text": [
            "accuracy = 0.659\n",
            "              precision    recall  f1-score   support\n",
            "\n",
            "           0       0.67      0.92      0.78       138\n",
            "           1       0.56      0.18      0.28        76\n",
            "\n",
            "    accuracy                           0.66       214\n",
            "   macro avg       0.62      0.55      0.53       214\n",
            "weighted avg       0.63      0.66      0.60       214\n",
            "\n"
          ]
        }
      ],
      "source": [
        "# логистическая регрессия\n",
        "answer.append(['Название','Параметры','Accuracy','Время'])\n",
        "logistic = LogisticRegression(max_iter = 10000)\n",
        "\n",
        "start_time = time.time()\n",
        "logistic.fit(X, y)\n",
        "end_time = time.time()\n",
        "\n",
        "y_pred_lr = logistic.predict(X)\n",
        "\n",
        "ac = accuracy_score(y, y_pred_lr)\n",
        "\n",
        "print(f'accuracy = {ac:.3f}')\n",
        "\n",
        "print(classification_report(y, y_pred_lr))\n",
        "answer.append(['логистическая','--',round(ac,3),round(end_time-start_time,3)])"
      ]
    },
    {
      "cell_type": "code",
      "source": [
        "answer"
      ],
      "metadata": {
        "colab": {
          "base_uri": "https://localhost:8080/"
        },
        "id": "bsJwHyjtw_QJ",
        "outputId": "b75c5173-32bc-4b02-eb7c-2e31e17f9f80"
      },
      "id": "bsJwHyjtw_QJ",
      "execution_count": 87,
      "outputs": [
        {
          "output_type": "execute_result",
          "data": {
            "text/plain": [
              "[['Название', 'Параметры', 'Accuracy', 'Время'],\n",
              " ['логистическая', '--', 0.659, 0.11]]"
            ]
          },
          "metadata": {},
          "execution_count": 87
        }
      ]
    },
    {
      "cell_type": "markdown",
      "id": "e00ece68-0e7b-4ab2-a4cd-c8724ffdff13",
      "metadata": {
        "id": "e00ece68-0e7b-4ab2-a4cd-c8724ffdff13"
      },
      "source": [
        "## 5"
      ]
    },
    {
      "cell_type": "markdown",
      "id": "ab7c3e73-0a73-4453-a3ed-2bc8c74536ae",
      "metadata": {
        "id": "ab7c3e73-0a73-4453-a3ed-2bc8c74536ae"
      },
      "source": [
        "5. (2 балла) Обучите полиномиальную модель классификации. Рассчитайте метрики accuracy и выведите таблицу классификации. Попробуйте разные степени полинома и выберите ту, которая работает лучше."
      ]
    },
    {
      "cell_type": "code",
      "execution_count": 88,
      "id": "a08e56ad-cf06-4c44-962c-db3165e0c68e",
      "metadata": {
        "scrolled": true,
        "colab": {
          "base_uri": "https://localhost:8080/"
        },
        "id": "a08e56ad-cf06-4c44-962c-db3165e0c68e",
        "outputId": "4fb4f9df-7f8f-454a-ec4e-134e649e2d33"
      },
      "outputs": [
        {
          "output_type": "stream",
          "name": "stdout",
          "text": [
            "Degree: 1, Accuracy: 0.659, Training Time: 0.070 seconds\n",
            "              precision    recall  f1-score   support\n",
            "\n",
            "           0       0.67      0.92      0.78       138\n",
            "           1       0.56      0.18      0.28        76\n",
            "\n",
            "    accuracy                           0.66       214\n",
            "   macro avg       0.62      0.55      0.53       214\n",
            "weighted avg       0.63      0.66      0.60       214\n",
            "\n",
            "Degree: 2, Accuracy: 0.808, Training Time: 0.163 seconds\n",
            "              precision    recall  f1-score   support\n",
            "\n",
            "           0       0.82      0.90      0.86       138\n",
            "           1       0.78      0.64      0.71        76\n",
            "\n",
            "    accuracy                           0.81       214\n",
            "   macro avg       0.80      0.77      0.78       214\n",
            "weighted avg       0.81      0.81      0.80       214\n",
            "\n"
          ]
        },
        {
          "output_type": "stream",
          "name": "stderr",
          "text": [
            "/usr/local/lib/python3.10/dist-packages/sklearn/linear_model/_logistic.py:469: ConvergenceWarning: lbfgs failed to converge (status=1):\n",
            "STOP: TOTAL NO. of ITERATIONS REACHED LIMIT.\n",
            "\n",
            "Increase the number of iterations (max_iter) or scale the data as shown in:\n",
            "    https://scikit-learn.org/stable/modules/preprocessing.html\n",
            "Please also refer to the documentation for alternative solver options:\n",
            "    https://scikit-learn.org/stable/modules/linear_model.html#logistic-regression\n",
            "  n_iter_i = _check_optimize_result(\n",
            "/usr/local/lib/python3.10/dist-packages/sklearn/linear_model/_logistic.py:469: ConvergenceWarning: lbfgs failed to converge (status=1):\n",
            "STOP: TOTAL NO. of ITERATIONS REACHED LIMIT.\n",
            "\n",
            "Increase the number of iterations (max_iter) or scale the data as shown in:\n",
            "    https://scikit-learn.org/stable/modules/preprocessing.html\n",
            "Please also refer to the documentation for alternative solver options:\n",
            "    https://scikit-learn.org/stable/modules/linear_model.html#logistic-regression\n",
            "  n_iter_i = _check_optimize_result(\n"
          ]
        },
        {
          "output_type": "stream",
          "name": "stdout",
          "text": [
            "Degree: 3, Accuracy: 0.804, Training Time: 0.205 seconds\n",
            "              precision    recall  f1-score   support\n",
            "\n",
            "           0       0.82      0.89      0.85       138\n",
            "           1       0.77      0.64      0.70        76\n",
            "\n",
            "    accuracy                           0.80       214\n",
            "   macro avg       0.79      0.77      0.78       214\n",
            "weighted avg       0.80      0.80      0.80       214\n",
            "\n"
          ]
        },
        {
          "output_type": "stream",
          "name": "stderr",
          "text": [
            "/usr/local/lib/python3.10/dist-packages/sklearn/linear_model/_logistic.py:469: ConvergenceWarning: lbfgs failed to converge (status=1):\n",
            "STOP: TOTAL NO. of ITERATIONS REACHED LIMIT.\n",
            "\n",
            "Increase the number of iterations (max_iter) or scale the data as shown in:\n",
            "    https://scikit-learn.org/stable/modules/preprocessing.html\n",
            "Please also refer to the documentation for alternative solver options:\n",
            "    https://scikit-learn.org/stable/modules/linear_model.html#logistic-regression\n",
            "  n_iter_i = _check_optimize_result(\n"
          ]
        },
        {
          "output_type": "stream",
          "name": "stdout",
          "text": [
            "Degree: 5, Accuracy: 0.822, Training Time: 1.435 seconds\n",
            "              precision    recall  f1-score   support\n",
            "\n",
            "           0       0.84      0.90      0.87       138\n",
            "           1       0.79      0.68      0.73        76\n",
            "\n",
            "    accuracy                           0.82       214\n",
            "   macro avg       0.81      0.79      0.80       214\n",
            "weighted avg       0.82      0.82      0.82       214\n",
            "\n",
            "Degree: 7, Accuracy: 0.846, Training Time: 25.044 seconds\n",
            "              precision    recall  f1-score   support\n",
            "\n",
            "           0       0.86      0.91      0.88       138\n",
            "           1       0.82      0.72      0.77        76\n",
            "\n",
            "    accuracy                           0.85       214\n",
            "   macro avg       0.84      0.82      0.83       214\n",
            "weighted avg       0.84      0.85      0.84       214\n",
            "\n"
          ]
        },
        {
          "output_type": "stream",
          "name": "stderr",
          "text": [
            "/usr/local/lib/python3.10/dist-packages/sklearn/linear_model/_logistic.py:469: ConvergenceWarning: lbfgs failed to converge (status=1):\n",
            "STOP: TOTAL NO. of ITERATIONS REACHED LIMIT.\n",
            "\n",
            "Increase the number of iterations (max_iter) or scale the data as shown in:\n",
            "    https://scikit-learn.org/stable/modules/preprocessing.html\n",
            "Please also refer to the documentation for alternative solver options:\n",
            "    https://scikit-learn.org/stable/modules/linear_model.html#logistic-regression\n",
            "  n_iter_i = _check_optimize_result(\n"
          ]
        }
      ],
      "source": [
        "# полиномиальная\n",
        "degrees = [1, 2, 3, 5, 7]\n",
        "for degree in degrees:\n",
        "\n",
        "    model = Pipeline([\n",
        "        (\"poly_features\", PolynomialFeatures(degree=degree)),\n",
        "        (\"logistic_regression\", LogisticRegression(max_iter=700 if degree < 5 else 1500))\n",
        "    ])\n",
        "\n",
        "\n",
        "    start_time = time.time()\n",
        "    model.fit(X, y)\n",
        "    end_time = time.time()\n",
        "\n",
        "    y_pred = model.predict(X)\n",
        "\n",
        "\n",
        "    ac = accuracy_score(y, y_pred)\n",
        "    print(f'Degree: {degree}, Accuracy: {ac:.3f}, Training Time: {end_time - start_time:.3f} seconds')\n",
        "\n",
        "\n",
        "    print(classification_report(y, y_pred))\n",
        "    answer.append(['полиномиальная','Degree:'+str(degree), round(ac,3), round(end_time - start_time,3)])"
      ]
    },
    {
      "cell_type": "code",
      "source": [
        "answer\n",
        "# Лучшая степень полинома по параметрам accuracy к врменени работы - это полином ___ степени"
      ],
      "metadata": {
        "colab": {
          "base_uri": "https://localhost:8080/"
        },
        "id": "3ngAdXWXxymE",
        "outputId": "e26d3efb-642e-401d-f84d-21712ddcb5be"
      },
      "id": "3ngAdXWXxymE",
      "execution_count": 89,
      "outputs": [
        {
          "output_type": "execute_result",
          "data": {
            "text/plain": [
              "[['Название', 'Параметры', 'Accuracy', 'Время'],\n",
              " ['логистическая', '--', 0.659, 0.11],\n",
              " ['полиномиальная', 'Degree:1', 0.659, 0.07],\n",
              " ['полиномиальная', 'Degree:2', 0.808, 0.163],\n",
              " ['полиномиальная', 'Degree:3', 0.804, 0.205],\n",
              " ['полиномиальная', 'Degree:5', 0.822, 1.435],\n",
              " ['полиномиальная', 'Degree:7', 0.846, 25.044]]"
            ]
          },
          "metadata": {},
          "execution_count": 89
        }
      ]
    },
    {
      "cell_type": "markdown",
      "id": "93304fbf-9ef2-47af-ae5b-e35fd91f0d30",
      "metadata": {
        "id": "93304fbf-9ef2-47af-ae5b-e35fd91f0d30"
      },
      "source": [
        "## 6"
      ]
    },
    {
      "cell_type": "markdown",
      "id": "f9874f0f-e67b-455f-b350-19ff5b70ab18",
      "metadata": {
        "id": "f9874f0f-e67b-455f-b350-19ff5b70ab18"
      },
      "source": [
        "6. (2 балла) Обучите модель классификации по методу опорных векторов. Рассчитайте метрики accuracy и выведите таблицу классификации. Попробуйте разные ядерные функции и выберите ту, которая работает лучше.\n"
      ]
    },
    {
      "cell_type": "code",
      "execution_count": 92,
      "id": "df1d81f1-05e7-454f-8140-c8ff383037f4",
      "metadata": {
        "scrolled": true,
        "colab": {
          "base_uri": "https://localhost:8080/"
        },
        "id": "df1d81f1-05e7-454f-8140-c8ff383037f4",
        "outputId": "d511b528-9024-4111-9b69-5a81caf4ef06"
      },
      "outputs": [
        {
          "output_type": "stream",
          "name": "stdout",
          "text": [
            "Kernel: linear, Accuracy: 0.654, time : 0.008\n",
            "              precision    recall  f1-score   support\n",
            "\n",
            "           0       0.65      1.00      0.79       138\n",
            "           1       1.00      0.03      0.05        76\n",
            "\n",
            "    accuracy                           0.65       214\n",
            "   macro avg       0.83      0.51      0.42       214\n",
            "weighted avg       0.77      0.65      0.53       214\n",
            "\n",
            "Kernel: poly, Accuracy: 0.645, time : 0.005\n",
            "              precision    recall  f1-score   support\n",
            "\n",
            "           0       0.64      1.00      0.78       138\n",
            "           1       0.00      0.00      0.00        76\n",
            "\n",
            "    accuracy                           0.64       214\n",
            "   macro avg       0.32      0.50      0.39       214\n",
            "weighted avg       0.42      0.64      0.51       214\n",
            "\n",
            "Kernel: rbf, Accuracy: 0.645, time : 0.004\n",
            "              precision    recall  f1-score   support\n",
            "\n",
            "           0       0.64      1.00      0.78       138\n",
            "           1       0.00      0.00      0.00        76\n",
            "\n",
            "    accuracy                           0.64       214\n",
            "   macro avg       0.32      0.50      0.39       214\n",
            "weighted avg       0.42      0.64      0.51       214\n",
            "\n"
          ]
        },
        {
          "output_type": "stream",
          "name": "stderr",
          "text": [
            "/usr/local/lib/python3.10/dist-packages/sklearn/metrics/_classification.py:1531: UndefinedMetricWarning: Precision is ill-defined and being set to 0.0 in labels with no predicted samples. Use `zero_division` parameter to control this behavior.\n",
            "  _warn_prf(average, modifier, f\"{metric.capitalize()} is\", len(result))\n",
            "/usr/local/lib/python3.10/dist-packages/sklearn/metrics/_classification.py:1531: UndefinedMetricWarning: Precision is ill-defined and being set to 0.0 in labels with no predicted samples. Use `zero_division` parameter to control this behavior.\n",
            "  _warn_prf(average, modifier, f\"{metric.capitalize()} is\", len(result))\n",
            "/usr/local/lib/python3.10/dist-packages/sklearn/metrics/_classification.py:1531: UndefinedMetricWarning: Precision is ill-defined and being set to 0.0 in labels with no predicted samples. Use `zero_division` parameter to control this behavior.\n",
            "  _warn_prf(average, modifier, f\"{metric.capitalize()} is\", len(result))\n",
            "/usr/local/lib/python3.10/dist-packages/sklearn/metrics/_classification.py:1531: UndefinedMetricWarning: Precision is ill-defined and being set to 0.0 in labels with no predicted samples. Use `zero_division` parameter to control this behavior.\n",
            "  _warn_prf(average, modifier, f\"{metric.capitalize()} is\", len(result))\n",
            "/usr/local/lib/python3.10/dist-packages/sklearn/metrics/_classification.py:1531: UndefinedMetricWarning: Precision is ill-defined and being set to 0.0 in labels with no predicted samples. Use `zero_division` parameter to control this behavior.\n",
            "  _warn_prf(average, modifier, f\"{metric.capitalize()} is\", len(result))\n",
            "/usr/local/lib/python3.10/dist-packages/sklearn/metrics/_classification.py:1531: UndefinedMetricWarning: Precision is ill-defined and being set to 0.0 in labels with no predicted samples. Use `zero_division` parameter to control this behavior.\n",
            "  _warn_prf(average, modifier, f\"{metric.capitalize()} is\", len(result))\n"
          ]
        }
      ],
      "source": [
        "# опорные вектора\n",
        "kernels = ['linear', 'poly', 'rbf']\n",
        "\n",
        "\n",
        "for kernel in kernels:\n",
        "    svm_model = SVC(kernel=kernel)\n",
        "    start_time = time.time()\n",
        "    svm_model.fit(X, y)\n",
        "    end_time = time.time()\n",
        "    y_pred_svc = svm_model.predict(X)\n",
        "\n",
        "\n",
        "    accuracy = accuracy_score(y, y_pred_svc)\n",
        "    print(f'Kernel: {kernel}, Accuracy: {accuracy:.3f}, time : {end_time-start_time:.3f}')\n",
        "\n",
        "    print(classification_report(y, y_pred_svc))\n",
        "    answer.append(['Опорные вектора','kernel : '+kernel, round(accuracy,3), round(end_time-start_time,3)])"
      ]
    },
    {
      "cell_type": "code",
      "source": [
        "answer\n",
        "# Лучшая ядерная функция по параметрам accuracy к врменени работы - это функция"
      ],
      "metadata": {
        "colab": {
          "base_uri": "https://localhost:8080/"
        },
        "id": "HmUuI1dAyjuy",
        "outputId": "df28b37f-4a98-4c3d-8b8a-b5861bae99fa"
      },
      "id": "HmUuI1dAyjuy",
      "execution_count": 93,
      "outputs": [
        {
          "output_type": "execute_result",
          "data": {
            "text/plain": [
              "[['Название', 'Параметры', 'Accuracy', 'Время'],\n",
              " ['логистическая', '--', 0.659, 0.11],\n",
              " ['полиномиальная', 'Degree:1', 0.659, 0.07],\n",
              " ['полиномиальная', 'Degree:2', 0.808, 0.163],\n",
              " ['полиномиальная', 'Degree:3', 0.804, 0.205],\n",
              " ['полиномиальная', 'Degree:5', 0.822, 1.435],\n",
              " ['полиномиальная', 'Degree:7', 0.846, 25.044],\n",
              " ['Опорные вектора', 'kernel : linear', 0.846, 0.007],\n",
              " ['Опорные вектора', 'kernel : poly', 0.846, 0.004],\n",
              " ['Опорные вектора', 'kernel : rbf', 0.846, 0.004],\n",
              " ['Опорные вектора', 'kernel : linear', 0.654, 0.008],\n",
              " ['Опорные вектора', 'kernel : poly', 0.645, 0.005],\n",
              " ['Опорные вектора', 'kernel : rbf', 0.645, 0.004]]"
            ]
          },
          "metadata": {},
          "execution_count": 93
        }
      ]
    },
    {
      "cell_type": "markdown",
      "id": "a32eca63-5be9-4c23-8fec-8b3bf93ec255",
      "metadata": {
        "id": "a32eca63-5be9-4c23-8fec-8b3bf93ec255"
      },
      "source": [
        "## 7"
      ]
    },
    {
      "cell_type": "markdown",
      "id": "2ab287df-3fa6-40c2-a2c4-12673a023d8f",
      "metadata": {
        "id": "2ab287df-3fa6-40c2-a2c4-12673a023d8f"
      },
      "source": [
        "7. (1 балл) Обучите модель классификации Перцептрон. Рассчитайте метрики accuracy и выведите таблицу классификации.\n"
      ]
    },
    {
      "cell_type": "code",
      "execution_count": 94,
      "id": "a1fc2c42-8ee0-4390-b224-220fefbede05",
      "metadata": {
        "colab": {
          "base_uri": "https://localhost:8080/"
        },
        "id": "a1fc2c42-8ee0-4390-b224-220fefbede05",
        "outputId": "61852916-39cf-4bed-e515-89aa524cf709"
      },
      "outputs": [
        {
          "output_type": "execute_result",
          "data": {
            "text/plain": [
              "((214, 9), (214,))"
            ]
          },
          "metadata": {},
          "execution_count": 94
        }
      ],
      "source": [
        "X.shape,y.shape"
      ]
    },
    {
      "cell_type": "code",
      "execution_count": 95,
      "id": "3acfbbb0-4666-4b19-9c8e-355e13fbb521",
      "metadata": {
        "colab": {
          "base_uri": "https://localhost:8080/"
        },
        "id": "3acfbbb0-4666-4b19-9c8e-355e13fbb521",
        "outputId": "7fb49753-213b-449e-b9d9-d880ce40f826"
      },
      "outputs": [
        {
          "output_type": "stream",
          "name": "stdout",
          "text": [
            "hidden_layer_sizes: (1, 1, 1, 1, 1, 1, 1), Accuracy: 0.645\n",
            "hidden_layer_sizes: (2, 2, 2, 2, 2, 2, 2), Accuracy: 0.645\n",
            "hidden_layer_sizes: (3, 3, 3, 3, 3, 3, 3), Accuracy: 0.645\n",
            "hidden_layer_sizes: (4, 4, 4, 4, 4, 4, 4), Accuracy: 0.645\n",
            "hidden_layer_sizes: (5, 5, 5, 5, 5, 5, 5), Accuracy: 0.645\n",
            "hidden_layer_sizes: (6, 6, 6, 6, 6, 6, 6), Accuracy: 0.645\n",
            "hidden_layer_sizes: (7, 7, 7, 7, 7, 7, 7), Accuracy: 0.645\n",
            "hidden_layer_sizes: (8, 8, 8, 8, 8, 8, 8), Accuracy: 0.673\n",
            "hidden_layer_sizes: (9, 9, 9, 9, 9, 9, 9), Accuracy: 0.645\n",
            "hidden_layer_sizes: (10, 10, 10, 10, 10, 10, 10), Accuracy: 0.645\n",
            "hidden_layer_sizes: (11, 11, 11, 11, 11, 11, 11), Accuracy: 0.645\n",
            "hidden_layer_sizes: (12, 12, 12, 12, 12, 12, 12), Accuracy: 0.645\n",
            "hidden_layer_sizes: (13, 13, 13, 13, 13, 13, 13), Accuracy: 0.645\n",
            "hidden_layer_sizes: (14, 14, 14, 14, 14, 14, 14), Accuracy: 0.659\n",
            "hidden_layer_sizes: (15, 15, 15, 15, 15, 15, 15), Accuracy: 0.645\n",
            "hidden_layer_sizes: (16, 16, 16, 16, 16, 16, 16), Accuracy: 0.645\n",
            "hidden_layer_sizes: (17, 17, 17, 17, 17, 17, 17), Accuracy: 0.645\n"
          ]
        }
      ],
      "source": [
        "#  модель классификации Перцептрон\n",
        "i = int(round(2/3* X.shape[1],0)+1)\n",
        "acc = list()\n",
        "for j in range(1,X.shape[1]*2):\n",
        "    hidden_layer_sizes = (j,) * i\n",
        "\n",
        "    clf = MLPClassifier(hidden_layer_sizes=hidden_layer_sizes, max_iter=10_000,random_state=0).fit(X, y)\n",
        "    y_pred = clf.predict(X)\n",
        "\n",
        "    accuracy = accuracy_score(y, y_pred)\n",
        "    acc.append([hidden_layer_sizes, accuracy])\n",
        "    print(f'hidden_layer_sizes: {hidden_layer_sizes}, Accuracy: {accuracy:.3f}')"
      ]
    },
    {
      "cell_type": "code",
      "execution_count": 96,
      "id": "184977d4-428d-4a19-93c7-226ee1beba28",
      "metadata": {
        "colab": {
          "base_uri": "https://localhost:8080/"
        },
        "id": "184977d4-428d-4a19-93c7-226ee1beba28",
        "outputId": "f1607c42-5be1-43cf-ecf8-8e04234a2e4a"
      },
      "outputs": [
        {
          "output_type": "execute_result",
          "data": {
            "text/plain": [
              "[(8, 8, 8, 8, 8, 8, 8), 0.6728971962616822]"
            ]
          },
          "metadata": {},
          "execution_count": 96
        }
      ],
      "source": [
        "acc = sorted(acc, key=lambda x: x[1], reverse=True)\n",
        "acc[0]"
      ]
    },
    {
      "cell_type": "code",
      "execution_count": 97,
      "id": "ff1c36bd-f15c-409b-a619-d0d8c908f22a",
      "metadata": {
        "colab": {
          "base_uri": "https://localhost:8080/"
        },
        "id": "ff1c36bd-f15c-409b-a619-d0d8c908f22a",
        "outputId": "1b08950b-6e3a-4898-99df-7076f1f86eff"
      },
      "outputs": [
        {
          "output_type": "stream",
          "name": "stdout",
          "text": [
            "hidden_layer_sizes: (8, 8, 8, 8, 8, 8, 8), Accuracy: 0.673\n",
            "              precision    recall  f1-score   support\n",
            "\n",
            "           0       0.85      0.60      0.70       138\n",
            "           1       0.53      0.80      0.64        76\n",
            "\n",
            "    accuracy                           0.67       214\n",
            "   macro avg       0.69      0.70      0.67       214\n",
            "weighted avg       0.73      0.67      0.68       214\n",
            "\n"
          ]
        }
      ],
      "source": [
        "clf = MLPClassifier(hidden_layer_sizes=acc[0][0], max_iter=10_000,random_state=0)\n",
        "start_time = time.time()\n",
        "clf.fit(X, y)\n",
        "end_time = time.time()\n",
        "y_pred_clf = clf.predict(X)\n",
        "\n",
        "ac = accuracy_score(y, y_pred_clf)\n",
        "\n",
        "print(f'hidden_layer_sizes: {acc[0][0]}, Accuracy: {ac:.3f}')\n",
        "print(classification_report(y, y_pred_clf))\n",
        "\n",
        "answer.append(['MLPClassifier',acc[0][0], round(ac,3), round(end_time-start_time,3)])"
      ]
    },
    {
      "cell_type": "markdown",
      "id": "75c28692-e410-485a-bc72-7429d141ea3b",
      "metadata": {
        "id": "75c28692-e410-485a-bc72-7429d141ea3b"
      },
      "source": [
        "## 8"
      ]
    },
    {
      "cell_type": "markdown",
      "id": "ec0f39c4-c478-476a-b809-36ed20e8bafa",
      "metadata": {
        "id": "ec0f39c4-c478-476a-b809-36ed20e8bafa"
      },
      "source": [
        "Выведите итоговую таблицу сравнения всех моделей. В таблице должна быть информация о эффективности и времени обучения каждой модели. Сделайте вывод о применимости и эффективности моделей для классификации объектов в данной задаче."
      ]
    },
    {
      "cell_type": "code",
      "execution_count": 100,
      "id": "bcdd45fa-93eb-4440-843b-ea48f24efcbf",
      "metadata": {
        "colab": {
          "base_uri": "https://localhost:8080/",
          "height": 488
        },
        "id": "bcdd45fa-93eb-4440-843b-ea48f24efcbf",
        "outputId": "61a75771-ae82-4e03-ab18-4e7072cbeb70"
      },
      "outputs": [
        {
          "output_type": "execute_result",
          "data": {
            "text/plain": [
              "                  0                      1         2       3\n",
              "0          Название              Параметры  Accuracy   Время\n",
              "1     логистическая                     --     0.659    0.11\n",
              "2    полиномиальная               Degree:1     0.659    0.07\n",
              "3    полиномиальная               Degree:2     0.808   0.163\n",
              "4    полиномиальная               Degree:3     0.804   0.205\n",
              "5    полиномиальная               Degree:5     0.822   1.435\n",
              "6    полиномиальная               Degree:7     0.846  25.044\n",
              "7   Опорные вектора        kernel : linear     0.846   0.007\n",
              "8   Опорные вектора          kernel : poly     0.846   0.004\n",
              "9   Опорные вектора           kernel : rbf     0.846   0.004\n",
              "10  Опорные вектора        kernel : linear     0.654   0.008\n",
              "11  Опорные вектора          kernel : poly     0.645   0.005\n",
              "12  Опорные вектора           kernel : rbf     0.645   0.004\n",
              "13    MLPClassifier  (8, 8, 8, 8, 8, 8, 8)     0.673   0.487"
            ],
            "text/html": [
              "\n",
              "  <div id=\"df-c5e1adc1-73f3-4502-a87b-fe274510b97f\" class=\"colab-df-container\">\n",
              "    <div>\n",
              "<style scoped>\n",
              "    .dataframe tbody tr th:only-of-type {\n",
              "        vertical-align: middle;\n",
              "    }\n",
              "\n",
              "    .dataframe tbody tr th {\n",
              "        vertical-align: top;\n",
              "    }\n",
              "\n",
              "    .dataframe thead th {\n",
              "        text-align: right;\n",
              "    }\n",
              "</style>\n",
              "<table border=\"1\" class=\"dataframe\">\n",
              "  <thead>\n",
              "    <tr style=\"text-align: right;\">\n",
              "      <th></th>\n",
              "      <th>0</th>\n",
              "      <th>1</th>\n",
              "      <th>2</th>\n",
              "      <th>3</th>\n",
              "    </tr>\n",
              "  </thead>\n",
              "  <tbody>\n",
              "    <tr>\n",
              "      <th>0</th>\n",
              "      <td>Название</td>\n",
              "      <td>Параметры</td>\n",
              "      <td>Accuracy</td>\n",
              "      <td>Время</td>\n",
              "    </tr>\n",
              "    <tr>\n",
              "      <th>1</th>\n",
              "      <td>логистическая</td>\n",
              "      <td>--</td>\n",
              "      <td>0.659</td>\n",
              "      <td>0.11</td>\n",
              "    </tr>\n",
              "    <tr>\n",
              "      <th>2</th>\n",
              "      <td>полиномиальная</td>\n",
              "      <td>Degree:1</td>\n",
              "      <td>0.659</td>\n",
              "      <td>0.07</td>\n",
              "    </tr>\n",
              "    <tr>\n",
              "      <th>3</th>\n",
              "      <td>полиномиальная</td>\n",
              "      <td>Degree:2</td>\n",
              "      <td>0.808</td>\n",
              "      <td>0.163</td>\n",
              "    </tr>\n",
              "    <tr>\n",
              "      <th>4</th>\n",
              "      <td>полиномиальная</td>\n",
              "      <td>Degree:3</td>\n",
              "      <td>0.804</td>\n",
              "      <td>0.205</td>\n",
              "    </tr>\n",
              "    <tr>\n",
              "      <th>5</th>\n",
              "      <td>полиномиальная</td>\n",
              "      <td>Degree:5</td>\n",
              "      <td>0.822</td>\n",
              "      <td>1.435</td>\n",
              "    </tr>\n",
              "    <tr>\n",
              "      <th>6</th>\n",
              "      <td>полиномиальная</td>\n",
              "      <td>Degree:7</td>\n",
              "      <td>0.846</td>\n",
              "      <td>25.044</td>\n",
              "    </tr>\n",
              "    <tr>\n",
              "      <th>7</th>\n",
              "      <td>Опорные вектора</td>\n",
              "      <td>kernel : linear</td>\n",
              "      <td>0.846</td>\n",
              "      <td>0.007</td>\n",
              "    </tr>\n",
              "    <tr>\n",
              "      <th>8</th>\n",
              "      <td>Опорные вектора</td>\n",
              "      <td>kernel : poly</td>\n",
              "      <td>0.846</td>\n",
              "      <td>0.004</td>\n",
              "    </tr>\n",
              "    <tr>\n",
              "      <th>9</th>\n",
              "      <td>Опорные вектора</td>\n",
              "      <td>kernel : rbf</td>\n",
              "      <td>0.846</td>\n",
              "      <td>0.004</td>\n",
              "    </tr>\n",
              "    <tr>\n",
              "      <th>10</th>\n",
              "      <td>Опорные вектора</td>\n",
              "      <td>kernel : linear</td>\n",
              "      <td>0.654</td>\n",
              "      <td>0.008</td>\n",
              "    </tr>\n",
              "    <tr>\n",
              "      <th>11</th>\n",
              "      <td>Опорные вектора</td>\n",
              "      <td>kernel : poly</td>\n",
              "      <td>0.645</td>\n",
              "      <td>0.005</td>\n",
              "    </tr>\n",
              "    <tr>\n",
              "      <th>12</th>\n",
              "      <td>Опорные вектора</td>\n",
              "      <td>kernel : rbf</td>\n",
              "      <td>0.645</td>\n",
              "      <td>0.004</td>\n",
              "    </tr>\n",
              "    <tr>\n",
              "      <th>13</th>\n",
              "      <td>MLPClassifier</td>\n",
              "      <td>(8, 8, 8, 8, 8, 8, 8)</td>\n",
              "      <td>0.673</td>\n",
              "      <td>0.487</td>\n",
              "    </tr>\n",
              "  </tbody>\n",
              "</table>\n",
              "</div>\n",
              "    <div class=\"colab-df-buttons\">\n",
              "\n",
              "  <div class=\"colab-df-container\">\n",
              "    <button class=\"colab-df-convert\" onclick=\"convertToInteractive('df-c5e1adc1-73f3-4502-a87b-fe274510b97f')\"\n",
              "            title=\"Convert this dataframe to an interactive table.\"\n",
              "            style=\"display:none;\">\n",
              "\n",
              "  <svg xmlns=\"http://www.w3.org/2000/svg\" height=\"24px\" viewBox=\"0 -960 960 960\">\n",
              "    <path d=\"M120-120v-720h720v720H120Zm60-500h600v-160H180v160Zm220 220h160v-160H400v160Zm0 220h160v-160H400v160ZM180-400h160v-160H180v160Zm440 0h160v-160H620v160ZM180-180h160v-160H180v160Zm440 0h160v-160H620v160Z\"/>\n",
              "  </svg>\n",
              "    </button>\n",
              "\n",
              "  <style>\n",
              "    .colab-df-container {\n",
              "      display:flex;\n",
              "      gap: 12px;\n",
              "    }\n",
              "\n",
              "    .colab-df-convert {\n",
              "      background-color: #E8F0FE;\n",
              "      border: none;\n",
              "      border-radius: 50%;\n",
              "      cursor: pointer;\n",
              "      display: none;\n",
              "      fill: #1967D2;\n",
              "      height: 32px;\n",
              "      padding: 0 0 0 0;\n",
              "      width: 32px;\n",
              "    }\n",
              "\n",
              "    .colab-df-convert:hover {\n",
              "      background-color: #E2EBFA;\n",
              "      box-shadow: 0px 1px 2px rgba(60, 64, 67, 0.3), 0px 1px 3px 1px rgba(60, 64, 67, 0.15);\n",
              "      fill: #174EA6;\n",
              "    }\n",
              "\n",
              "    .colab-df-buttons div {\n",
              "      margin-bottom: 4px;\n",
              "    }\n",
              "\n",
              "    [theme=dark] .colab-df-convert {\n",
              "      background-color: #3B4455;\n",
              "      fill: #D2E3FC;\n",
              "    }\n",
              "\n",
              "    [theme=dark] .colab-df-convert:hover {\n",
              "      background-color: #434B5C;\n",
              "      box-shadow: 0px 1px 3px 1px rgba(0, 0, 0, 0.15);\n",
              "      filter: drop-shadow(0px 1px 2px rgba(0, 0, 0, 0.3));\n",
              "      fill: #FFFFFF;\n",
              "    }\n",
              "  </style>\n",
              "\n",
              "    <script>\n",
              "      const buttonEl =\n",
              "        document.querySelector('#df-c5e1adc1-73f3-4502-a87b-fe274510b97f button.colab-df-convert');\n",
              "      buttonEl.style.display =\n",
              "        google.colab.kernel.accessAllowed ? 'block' : 'none';\n",
              "\n",
              "      async function convertToInteractive(key) {\n",
              "        const element = document.querySelector('#df-c5e1adc1-73f3-4502-a87b-fe274510b97f');\n",
              "        const dataTable =\n",
              "          await google.colab.kernel.invokeFunction('convertToInteractive',\n",
              "                                                    [key], {});\n",
              "        if (!dataTable) return;\n",
              "\n",
              "        const docLinkHtml = 'Like what you see? Visit the ' +\n",
              "          '<a target=\"_blank\" href=https://colab.research.google.com/notebooks/data_table.ipynb>data table notebook</a>'\n",
              "          + ' to learn more about interactive tables.';\n",
              "        element.innerHTML = '';\n",
              "        dataTable['output_type'] = 'display_data';\n",
              "        await google.colab.output.renderOutput(dataTable, element);\n",
              "        const docLink = document.createElement('div');\n",
              "        docLink.innerHTML = docLinkHtml;\n",
              "        element.appendChild(docLink);\n",
              "      }\n",
              "    </script>\n",
              "  </div>\n",
              "\n",
              "\n",
              "<div id=\"df-7855809d-c6fd-4b32-8d9b-59d676056898\">\n",
              "  <button class=\"colab-df-quickchart\" onclick=\"quickchart('df-7855809d-c6fd-4b32-8d9b-59d676056898')\"\n",
              "            title=\"Suggest charts\"\n",
              "            style=\"display:none;\">\n",
              "\n",
              "<svg xmlns=\"http://www.w3.org/2000/svg\" height=\"24px\"viewBox=\"0 0 24 24\"\n",
              "     width=\"24px\">\n",
              "    <g>\n",
              "        <path d=\"M19 3H5c-1.1 0-2 .9-2 2v14c0 1.1.9 2 2 2h14c1.1 0 2-.9 2-2V5c0-1.1-.9-2-2-2zM9 17H7v-7h2v7zm4 0h-2V7h2v10zm4 0h-2v-4h2v4z\"/>\n",
              "    </g>\n",
              "</svg>\n",
              "  </button>\n",
              "\n",
              "<style>\n",
              "  .colab-df-quickchart {\n",
              "      --bg-color: #E8F0FE;\n",
              "      --fill-color: #1967D2;\n",
              "      --hover-bg-color: #E2EBFA;\n",
              "      --hover-fill-color: #174EA6;\n",
              "      --disabled-fill-color: #AAA;\n",
              "      --disabled-bg-color: #DDD;\n",
              "  }\n",
              "\n",
              "  [theme=dark] .colab-df-quickchart {\n",
              "      --bg-color: #3B4455;\n",
              "      --fill-color: #D2E3FC;\n",
              "      --hover-bg-color: #434B5C;\n",
              "      --hover-fill-color: #FFFFFF;\n",
              "      --disabled-bg-color: #3B4455;\n",
              "      --disabled-fill-color: #666;\n",
              "  }\n",
              "\n",
              "  .colab-df-quickchart {\n",
              "    background-color: var(--bg-color);\n",
              "    border: none;\n",
              "    border-radius: 50%;\n",
              "    cursor: pointer;\n",
              "    display: none;\n",
              "    fill: var(--fill-color);\n",
              "    height: 32px;\n",
              "    padding: 0;\n",
              "    width: 32px;\n",
              "  }\n",
              "\n",
              "  .colab-df-quickchart:hover {\n",
              "    background-color: var(--hover-bg-color);\n",
              "    box-shadow: 0 1px 2px rgba(60, 64, 67, 0.3), 0 1px 3px 1px rgba(60, 64, 67, 0.15);\n",
              "    fill: var(--button-hover-fill-color);\n",
              "  }\n",
              "\n",
              "  .colab-df-quickchart-complete:disabled,\n",
              "  .colab-df-quickchart-complete:disabled:hover {\n",
              "    background-color: var(--disabled-bg-color);\n",
              "    fill: var(--disabled-fill-color);\n",
              "    box-shadow: none;\n",
              "  }\n",
              "\n",
              "  .colab-df-spinner {\n",
              "    border: 2px solid var(--fill-color);\n",
              "    border-color: transparent;\n",
              "    border-bottom-color: var(--fill-color);\n",
              "    animation:\n",
              "      spin 1s steps(1) infinite;\n",
              "  }\n",
              "\n",
              "  @keyframes spin {\n",
              "    0% {\n",
              "      border-color: transparent;\n",
              "      border-bottom-color: var(--fill-color);\n",
              "      border-left-color: var(--fill-color);\n",
              "    }\n",
              "    20% {\n",
              "      border-color: transparent;\n",
              "      border-left-color: var(--fill-color);\n",
              "      border-top-color: var(--fill-color);\n",
              "    }\n",
              "    30% {\n",
              "      border-color: transparent;\n",
              "      border-left-color: var(--fill-color);\n",
              "      border-top-color: var(--fill-color);\n",
              "      border-right-color: var(--fill-color);\n",
              "    }\n",
              "    40% {\n",
              "      border-color: transparent;\n",
              "      border-right-color: var(--fill-color);\n",
              "      border-top-color: var(--fill-color);\n",
              "    }\n",
              "    60% {\n",
              "      border-color: transparent;\n",
              "      border-right-color: var(--fill-color);\n",
              "    }\n",
              "    80% {\n",
              "      border-color: transparent;\n",
              "      border-right-color: var(--fill-color);\n",
              "      border-bottom-color: var(--fill-color);\n",
              "    }\n",
              "    90% {\n",
              "      border-color: transparent;\n",
              "      border-bottom-color: var(--fill-color);\n",
              "    }\n",
              "  }\n",
              "</style>\n",
              "\n",
              "  <script>\n",
              "    async function quickchart(key) {\n",
              "      const quickchartButtonEl =\n",
              "        document.querySelector('#' + key + ' button');\n",
              "      quickchartButtonEl.disabled = true;  // To prevent multiple clicks.\n",
              "      quickchartButtonEl.classList.add('colab-df-spinner');\n",
              "      try {\n",
              "        const charts = await google.colab.kernel.invokeFunction(\n",
              "            'suggestCharts', [key], {});\n",
              "      } catch (error) {\n",
              "        console.error('Error during call to suggestCharts:', error);\n",
              "      }\n",
              "      quickchartButtonEl.classList.remove('colab-df-spinner');\n",
              "      quickchartButtonEl.classList.add('colab-df-quickchart-complete');\n",
              "    }\n",
              "    (() => {\n",
              "      let quickchartButtonEl =\n",
              "        document.querySelector('#df-7855809d-c6fd-4b32-8d9b-59d676056898 button');\n",
              "      quickchartButtonEl.style.display =\n",
              "        google.colab.kernel.accessAllowed ? 'block' : 'none';\n",
              "    })();\n",
              "  </script>\n",
              "</div>\n",
              "    </div>\n",
              "  </div>\n"
            ],
            "application/vnd.google.colaboratory.intrinsic+json": {
              "type": "dataframe",
              "summary": "{\n  \"name\": \"pd\",\n  \"rows\": 14,\n  \"fields\": [\n    {\n      \"column\": 0,\n      \"properties\": {\n        \"dtype\": \"category\",\n        \"num_unique_values\": 5,\n        \"samples\": [\n          \"\\u043b\\u043e\\u0433\\u0438\\u0441\\u0442\\u0438\\u0447\\u0435\\u0441\\u043a\\u0430\\u044f\",\n          \"MLPClassifier\",\n          \"\\u043f\\u043e\\u043b\\u0438\\u043d\\u043e\\u043c\\u0438\\u0430\\u043b\\u044c\\u043d\\u0430\\u044f\"\n        ],\n        \"semantic_type\": \"\",\n        \"description\": \"\"\n      }\n    },\n    {\n      \"column\": 1,\n      \"properties\": {\n        \"dtype\": \"string\",\n        \"num_unique_values\": 11,\n        \"samples\": [\n          \"Degree:5\",\n          \"\\u041f\\u0430\\u0440\\u0430\\u043c\\u0435\\u0442\\u0440\\u044b\",\n          \"kernel : rbf\"\n        ],\n        \"semantic_type\": \"\",\n        \"description\": \"\"\n      }\n    },\n    {\n      \"column\": 2,\n      \"properties\": {\n        \"dtype\": \"string\",\n        \"num_unique_values\": 9,\n        \"samples\": [\n          0.645,\n          0.659,\n          0.846\n        ],\n        \"semantic_type\": \"\",\n        \"description\": \"\"\n      }\n    },\n    {\n      \"column\": 3,\n      \"properties\": {\n        \"dtype\": \"string\",\n        \"num_unique_values\": 12,\n        \"samples\": [\n          0.005,\n          0.008,\n          \"\\u0412\\u0440\\u0435\\u043c\\u044f\"\n        ],\n        \"semantic_type\": \"\",\n        \"description\": \"\"\n      }\n    }\n  ]\n}"
            }
          },
          "metadata": {},
          "execution_count": 100
        }
      ],
      "source": [
        "pd.DataFrame(answer)"
      ]
    },
    {
      "cell_type": "code",
      "source": [
        "#Для максимальной точности: использовать полиномиальную регрессию (Degree: 5 или 7), если допустимо увеличение времени обучения.\n",
        "#Для баланса между точностью и временем: использовать полиномиальную регрессию с Degree: 2 или 3.\n",
        "#Для минимального времени обучения: рассмотреть SVM с kernel: linear."
      ],
      "metadata": {
        "id": "LYtGfFqE2xVN"
      },
      "id": "LYtGfFqE2xVN",
      "execution_count": null,
      "outputs": []
    }
  ],
  "metadata": {
    "kernelspec": {
      "display_name": "Python 3 (ipykernel)",
      "language": "python",
      "name": "python3"
    },
    "language_info": {
      "codemirror_mode": {
        "name": "ipython",
        "version": 3
      },
      "file_extension": ".py",
      "mimetype": "text/x-python",
      "name": "python",
      "nbconvert_exporter": "python",
      "pygments_lexer": "ipython3",
      "version": "3.12.4"
    },
    "colab": {
      "provenance": []
    }
  },
  "nbformat": 4,
  "nbformat_minor": 5
}